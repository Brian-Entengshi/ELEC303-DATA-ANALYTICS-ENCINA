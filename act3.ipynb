{
 "cells": [
  {
   "cell_type": "code",
   "execution_count": 1,
   "id": "e258b0c0-e701-4129-8153-2231bb34156a",
   "metadata": {},
   "outputs": [],
   "source": [
    "import pandas as pd\n",
    "import numpy as np\n",
    "import warnings\n",
    "warnings.filterwarnings('ignore')"
   ]
  },
  {
   "cell_type": "code",
   "execution_count": 2,
   "id": "ac287c7d-aa2e-481c-8a6e-b86b44f12649",
   "metadata": {},
   "outputs": [],
   "source": [
    "road_accident = pd.read_csv('uk_road_accident.csv')"
   ]
  },
  {
   "cell_type": "code",
   "execution_count": 3,
   "id": "5383fcb5-d451-4900-a752-164b393d3b72",
   "metadata": {},
   "outputs": [
    {
     "data": {
      "text/html": [
       "<div>\n",
       "<style scoped>\n",
       "    .dataframe tbody tr th:only-of-type {\n",
       "        vertical-align: middle;\n",
       "    }\n",
       "\n",
       "    .dataframe tbody tr th {\n",
       "        vertical-align: top;\n",
       "    }\n",
       "\n",
       "    .dataframe thead th {\n",
       "        text-align: right;\n",
       "    }\n",
       "</style>\n",
       "<table border=\"1\" class=\"dataframe\">\n",
       "  <thead>\n",
       "    <tr style=\"text-align: right;\">\n",
       "      <th></th>\n",
       "      <th>Index</th>\n",
       "      <th>Accident_Severity</th>\n",
       "      <th>Accident Date</th>\n",
       "      <th>Latitude</th>\n",
       "      <th>Light_Conditions</th>\n",
       "      <th>District Area</th>\n",
       "      <th>Longitude</th>\n",
       "      <th>Number_of_Casualties</th>\n",
       "      <th>Number_of_Vehicles</th>\n",
       "      <th>Road_Surface_Conditions</th>\n",
       "      <th>Road_Type</th>\n",
       "      <th>Urban_or_Rural_Area</th>\n",
       "      <th>Weather_Conditions</th>\n",
       "      <th>Vehicle_Type</th>\n",
       "    </tr>\n",
       "  </thead>\n",
       "  <tbody>\n",
       "    <tr>\n",
       "      <th>0</th>\n",
       "      <td>200701BS64157</td>\n",
       "      <td>Serious</td>\n",
       "      <td>5/6/2019</td>\n",
       "      <td>51.506187</td>\n",
       "      <td>Darkness - lights lit</td>\n",
       "      <td>Kensington and Chelsea</td>\n",
       "      <td>-0.209082</td>\n",
       "      <td>1</td>\n",
       "      <td>2</td>\n",
       "      <td>Dry</td>\n",
       "      <td>Single carriageway</td>\n",
       "      <td>Urban</td>\n",
       "      <td>Fine no high winds</td>\n",
       "      <td>Car</td>\n",
       "    </tr>\n",
       "    <tr>\n",
       "      <th>1</th>\n",
       "      <td>200701BS65737</td>\n",
       "      <td>Serious</td>\n",
       "      <td>2/7/2019</td>\n",
       "      <td>51.495029</td>\n",
       "      <td>Daylight</td>\n",
       "      <td>Kensington and Chelsea</td>\n",
       "      <td>-0.173647</td>\n",
       "      <td>1</td>\n",
       "      <td>2</td>\n",
       "      <td>Wet or damp</td>\n",
       "      <td>Single carriageway</td>\n",
       "      <td>Urban</td>\n",
       "      <td>Raining no high winds</td>\n",
       "      <td>Car</td>\n",
       "    </tr>\n",
       "    <tr>\n",
       "      <th>2</th>\n",
       "      <td>200701BS66127</td>\n",
       "      <td>Serious</td>\n",
       "      <td>26-08-2019</td>\n",
       "      <td>51.517715</td>\n",
       "      <td>Darkness - lighting unknown</td>\n",
       "      <td>Kensington and Chelsea</td>\n",
       "      <td>-0.210215</td>\n",
       "      <td>1</td>\n",
       "      <td>3</td>\n",
       "      <td>Dry</td>\n",
       "      <td>NaN</td>\n",
       "      <td>Urban</td>\n",
       "      <td>NaN</td>\n",
       "      <td>Taxi/Private hire car</td>\n",
       "    </tr>\n",
       "    <tr>\n",
       "      <th>3</th>\n",
       "      <td>200701BS66128</td>\n",
       "      <td>Serious</td>\n",
       "      <td>16-08-2019</td>\n",
       "      <td>51.495478</td>\n",
       "      <td>Daylight</td>\n",
       "      <td>Kensington and Chelsea</td>\n",
       "      <td>-0.202731</td>\n",
       "      <td>1</td>\n",
       "      <td>4</td>\n",
       "      <td>Dry</td>\n",
       "      <td>Single carriageway</td>\n",
       "      <td>Urban</td>\n",
       "      <td>Fine no high winds</td>\n",
       "      <td>Bus or coach (17 or more pass seats)</td>\n",
       "    </tr>\n",
       "    <tr>\n",
       "      <th>4</th>\n",
       "      <td>200701BS66837</td>\n",
       "      <td>Slight</td>\n",
       "      <td>3/9/2019</td>\n",
       "      <td>51.488576</td>\n",
       "      <td>Darkness - lights lit</td>\n",
       "      <td>Kensington and Chelsea</td>\n",
       "      <td>-0.192487</td>\n",
       "      <td>1</td>\n",
       "      <td>2</td>\n",
       "      <td>Dry</td>\n",
       "      <td>NaN</td>\n",
       "      <td>Urban</td>\n",
       "      <td>NaN</td>\n",
       "      <td>Other vehicle</td>\n",
       "    </tr>\n",
       "    <tr>\n",
       "      <th>...</th>\n",
       "      <td>...</td>\n",
       "      <td>...</td>\n",
       "      <td>...</td>\n",
       "      <td>...</td>\n",
       "      <td>...</td>\n",
       "      <td>...</td>\n",
       "      <td>...</td>\n",
       "      <td>...</td>\n",
       "      <td>...</td>\n",
       "      <td>...</td>\n",
       "      <td>...</td>\n",
       "      <td>...</td>\n",
       "      <td>...</td>\n",
       "      <td>...</td>\n",
       "    </tr>\n",
       "    <tr>\n",
       "      <th>660674</th>\n",
       "      <td>201091NM01760</td>\n",
       "      <td>Slight</td>\n",
       "      <td>18-02-2022</td>\n",
       "      <td>57.374005</td>\n",
       "      <td>Daylight</td>\n",
       "      <td>Highland</td>\n",
       "      <td>-3.467828</td>\n",
       "      <td>2</td>\n",
       "      <td>1</td>\n",
       "      <td>Dry</td>\n",
       "      <td>Single carriageway</td>\n",
       "      <td>Rural</td>\n",
       "      <td>Fine no high winds</td>\n",
       "      <td>Car</td>\n",
       "    </tr>\n",
       "    <tr>\n",
       "      <th>660675</th>\n",
       "      <td>201091NM01881</td>\n",
       "      <td>Slight</td>\n",
       "      <td>21-02-2022</td>\n",
       "      <td>57.232273</td>\n",
       "      <td>Darkness - no lighting</td>\n",
       "      <td>Highland</td>\n",
       "      <td>-3.809281</td>\n",
       "      <td>1</td>\n",
       "      <td>1</td>\n",
       "      <td>Frost or ice</td>\n",
       "      <td>Single carriageway</td>\n",
       "      <td>Rural</td>\n",
       "      <td>Fine no high winds</td>\n",
       "      <td>Car</td>\n",
       "    </tr>\n",
       "    <tr>\n",
       "      <th>660676</th>\n",
       "      <td>201091NM01935</td>\n",
       "      <td>Slight</td>\n",
       "      <td>23-02-2022</td>\n",
       "      <td>57.585044</td>\n",
       "      <td>Daylight</td>\n",
       "      <td>Highland</td>\n",
       "      <td>-3.862727</td>\n",
       "      <td>1</td>\n",
       "      <td>3</td>\n",
       "      <td>Frost or ice</td>\n",
       "      <td>Single carriageway</td>\n",
       "      <td>Rural</td>\n",
       "      <td>Fine no high winds</td>\n",
       "      <td>Car</td>\n",
       "    </tr>\n",
       "    <tr>\n",
       "      <th>660677</th>\n",
       "      <td>201091NM01964</td>\n",
       "      <td>Serious</td>\n",
       "      <td>23-02-2022</td>\n",
       "      <td>57.214898</td>\n",
       "      <td>Darkness - no lighting</td>\n",
       "      <td>Highland</td>\n",
       "      <td>-3.823997</td>\n",
       "      <td>1</td>\n",
       "      <td>2</td>\n",
       "      <td>Wet or damp</td>\n",
       "      <td>Single carriageway</td>\n",
       "      <td>Rural</td>\n",
       "      <td>Fine no high winds</td>\n",
       "      <td>Motorcycle over 500cc</td>\n",
       "    </tr>\n",
       "    <tr>\n",
       "      <th>660678</th>\n",
       "      <td>201091NM02142</td>\n",
       "      <td>Serious</td>\n",
       "      <td>28-02-2022</td>\n",
       "      <td>57.575210</td>\n",
       "      <td>Daylight</td>\n",
       "      <td>Highland</td>\n",
       "      <td>-3.895673</td>\n",
       "      <td>1</td>\n",
       "      <td>1</td>\n",
       "      <td>Wet or damp</td>\n",
       "      <td>Dual carriageway</td>\n",
       "      <td>Rural</td>\n",
       "      <td>Snowing no high winds</td>\n",
       "      <td>Car</td>\n",
       "    </tr>\n",
       "  </tbody>\n",
       "</table>\n",
       "<p>660679 rows × 14 columns</p>\n",
       "</div>"
      ],
      "text/plain": [
       "                Index Accident_Severity Accident Date   Latitude  \\\n",
       "0       200701BS64157           Serious      5/6/2019  51.506187   \n",
       "1       200701BS65737           Serious      2/7/2019  51.495029   \n",
       "2       200701BS66127           Serious    26-08-2019  51.517715   \n",
       "3       200701BS66128           Serious    16-08-2019  51.495478   \n",
       "4       200701BS66837            Slight      3/9/2019  51.488576   \n",
       "...               ...               ...           ...        ...   \n",
       "660674  201091NM01760            Slight    18-02-2022  57.374005   \n",
       "660675  201091NM01881            Slight    21-02-2022  57.232273   \n",
       "660676  201091NM01935            Slight    23-02-2022  57.585044   \n",
       "660677  201091NM01964           Serious    23-02-2022  57.214898   \n",
       "660678  201091NM02142           Serious    28-02-2022  57.575210   \n",
       "\n",
       "                   Light_Conditions           District Area  Longitude  \\\n",
       "0             Darkness - lights lit  Kensington and Chelsea  -0.209082   \n",
       "1                          Daylight  Kensington and Chelsea  -0.173647   \n",
       "2       Darkness - lighting unknown  Kensington and Chelsea  -0.210215   \n",
       "3                          Daylight  Kensington and Chelsea  -0.202731   \n",
       "4             Darkness - lights lit  Kensington and Chelsea  -0.192487   \n",
       "...                             ...                     ...        ...   \n",
       "660674                     Daylight                Highland  -3.467828   \n",
       "660675       Darkness - no lighting                Highland  -3.809281   \n",
       "660676                     Daylight                Highland  -3.862727   \n",
       "660677       Darkness - no lighting                Highland  -3.823997   \n",
       "660678                     Daylight                Highland  -3.895673   \n",
       "\n",
       "        Number_of_Casualties  Number_of_Vehicles Road_Surface_Conditions  \\\n",
       "0                          1                   2                     Dry   \n",
       "1                          1                   2             Wet or damp   \n",
       "2                          1                   3                     Dry   \n",
       "3                          1                   4                     Dry   \n",
       "4                          1                   2                     Dry   \n",
       "...                      ...                 ...                     ...   \n",
       "660674                     2                   1                     Dry   \n",
       "660675                     1                   1            Frost or ice   \n",
       "660676                     1                   3            Frost or ice   \n",
       "660677                     1                   2             Wet or damp   \n",
       "660678                     1                   1             Wet or damp   \n",
       "\n",
       "                 Road_Type Urban_or_Rural_Area     Weather_Conditions  \\\n",
       "0       Single carriageway               Urban     Fine no high winds   \n",
       "1       Single carriageway               Urban  Raining no high winds   \n",
       "2                      NaN               Urban                    NaN   \n",
       "3       Single carriageway               Urban     Fine no high winds   \n",
       "4                      NaN               Urban                    NaN   \n",
       "...                    ...                 ...                    ...   \n",
       "660674  Single carriageway               Rural     Fine no high winds   \n",
       "660675  Single carriageway               Rural     Fine no high winds   \n",
       "660676  Single carriageway               Rural     Fine no high winds   \n",
       "660677  Single carriageway               Rural     Fine no high winds   \n",
       "660678    Dual carriageway               Rural  Snowing no high winds   \n",
       "\n",
       "                                Vehicle_Type  \n",
       "0                                        Car  \n",
       "1                                        Car  \n",
       "2                      Taxi/Private hire car  \n",
       "3       Bus or coach (17 or more pass seats)  \n",
       "4                              Other vehicle  \n",
       "...                                      ...  \n",
       "660674                                   Car  \n",
       "660675                                   Car  \n",
       "660676                                   Car  \n",
       "660677                 Motorcycle over 500cc  \n",
       "660678                                   Car  \n",
       "\n",
       "[660679 rows x 14 columns]"
      ]
     },
     "execution_count": 3,
     "metadata": {},
     "output_type": "execute_result"
    }
   ],
   "source": [
    "road_accident"
   ]
  },
  {
   "cell_type": "code",
   "execution_count": 4,
   "id": "1553594f-6cff-405e-9976-15749fcbc29a",
   "metadata": {},
   "outputs": [],
   "source": [
    "road_accident['Accident Date'] = road_accident['Accident Date'].astype('str')\n",
    "road_accident['Accident Date'] = road_accident['Accident Date'].str.strip()\n",
    "road_accident['Accident Date'] = road_accident['Accident Date'].str.replace('/', '-')"
   ]
  },
  {
   "cell_type": "code",
   "execution_count": 5,
   "id": "38e24139-79eb-49a6-abe9-b34adf01d07f",
   "metadata": {},
   "outputs": [],
   "source": [
    "road_accident['Accident Date'] = pd.to_datetime(road_accident['Accident Date'], dayfirst=True, errors='coerce')"
   ]
  },
  {
   "cell_type": "code",
   "execution_count": 6,
   "id": "0f5b925c-3a66-4623-a814-a1efa914850f",
   "metadata": {},
   "outputs": [],
   "source": [
    "road_accident['Year'] = road_accident['Accident Date'].dt.year\n",
    "road_accident['Month_Number'] = road_accident['Accident Date'].dt.month\n",
    "road_accident['Month'] = road_accident['Accident Date'].dt.month_name()\n",
    "road_accident['Day'] = road_accident['Accident Date'].dt.day\n",
    "road_accident['DayofWeek'] = road_accident['Accident Date'].dt.dayofweek  # Monday=0, Sunday=6"
   ]
  },
  {
   "cell_type": "markdown",
   "id": "4ccdceea-7403-43ba-ac47-deaee021be6c",
   "metadata": {},
   "source": [
    "<h1>CHECK FOR NULL VALUES</h1>"
   ]
  },
  {
   "cell_type": "code",
   "execution_count": 7,
   "id": "e0fe45cd-2bb1-41ad-9ecb-8f66e80c10cf",
   "metadata": {},
   "outputs": [
    {
     "data": {
      "text/plain": [
       "Index                          0\n",
       "Accident_Severity              0\n",
       "Accident Date                  0\n",
       "Latitude                      25\n",
       "Light_Conditions               0\n",
       "District Area                  0\n",
       "Longitude                     26\n",
       "Number_of_Casualties           0\n",
       "Number_of_Vehicles             0\n",
       "Road_Surface_Conditions      726\n",
       "Road_Type                   4520\n",
       "Urban_or_Rural_Area           15\n",
       "Weather_Conditions         14128\n",
       "Vehicle_Type                   0\n",
       "Year                           0\n",
       "Month_Number                   0\n",
       "Month                          0\n",
       "Day                            0\n",
       "DayofWeek                      0\n",
       "dtype: int64"
      ]
     },
     "execution_count": 7,
     "metadata": {},
     "output_type": "execute_result"
    }
   ],
   "source": [
    "road_accident.isnull().sum()"
   ]
  },
  {
   "cell_type": "code",
   "execution_count": 8,
   "id": "6214cf3d-ba21-424a-bfa5-2bc5a2649b8e",
   "metadata": {},
   "outputs": [
    {
     "data": {
      "text/plain": [
       "np.float64(52.553865761110956)"
      ]
     },
     "execution_count": 8,
     "metadata": {},
     "output_type": "execute_result"
    }
   ],
   "source": [
    "road_accident['Latitude'].mean()"
   ]
  },
  {
   "cell_type": "code",
   "execution_count": 9,
   "id": "64ee0062-42f8-4892-995b-59c4b9a10736",
   "metadata": {},
   "outputs": [],
   "source": [
    "road_accident['Latitude'] = road_accident['Latitude'].fillna(road_accident['Latitude'].mean())"
   ]
  },
  {
   "cell_type": "code",
   "execution_count": 10,
   "id": "6598657c-441f-4ad8-9154-246aed91759b",
   "metadata": {},
   "outputs": [
    {
     "data": {
      "text/plain": [
       "np.float64(-1.431210368502073)"
      ]
     },
     "execution_count": 10,
     "metadata": {},
     "output_type": "execute_result"
    }
   ],
   "source": [
    "road_accident['Longitude'].mean()"
   ]
  },
  {
   "cell_type": "code",
   "execution_count": 11,
   "id": "2768c1bb-650b-4384-866c-fd02b2dc9acb",
   "metadata": {},
   "outputs": [],
   "source": [
    "road_accident['Longitude'] = road_accident['Longitude'].fillna(road_accident['Longitude'].mean())"
   ]
  },
  {
   "cell_type": "code",
   "execution_count": 12,
   "id": "1061c496-544f-45f6-905e-c353dc7d7506",
   "metadata": {},
   "outputs": [],
   "source": [
    "road_accident['Road_Surface_Conditions'] = road_accident['Road_Surface_Conditions'].fillna('unaccounted')\n",
    "road_accident['Road_Type'] = road_accident['Road_Type'].fillna('unaccounted')"
   ]
  },
  {
   "cell_type": "code",
   "execution_count": 13,
   "id": "641270fa-22f1-4fdb-b1c6-b120bc39276b",
   "metadata": {},
   "outputs": [
    {
     "data": {
      "text/plain": [
       "0    Urban\n",
       "Name: Urban_or_Rural_Area, dtype: object"
      ]
     },
     "execution_count": 13,
     "metadata": {},
     "output_type": "execute_result"
    }
   ],
   "source": [
    "road_accident['Urban_or_Rural_Area'].mode()"
   ]
  },
  {
   "cell_type": "code",
   "execution_count": 14,
   "id": "bfc7e5fe-3578-44f0-be4e-046bbc674565",
   "metadata": {},
   "outputs": [],
   "source": [
    "road_accident['Urban_or_Rural_Area'] = road_accident['Urban_or_Rural_Area'].fillna(road_accident['Urban_or_Rural_Area'].mode()[0])\n",
    "\n",
    "road_accident['Weather_Conditions'] = road_accident['Weather_Conditions'].fillna('unaccounted')"
   ]
  },
  {
   "cell_type": "code",
   "execution_count": 15,
   "id": "4398cfea-4c2a-403e-a867-7ec69bb2c399",
   "metadata": {},
   "outputs": [
    {
     "data": {
      "text/plain": [
       "Index                      0\n",
       "Accident_Severity          0\n",
       "Accident Date              0\n",
       "Latitude                   0\n",
       "Light_Conditions           0\n",
       "District Area              0\n",
       "Longitude                  0\n",
       "Number_of_Casualties       0\n",
       "Number_of_Vehicles         0\n",
       "Road_Surface_Conditions    0\n",
       "Road_Type                  0\n",
       "Urban_or_Rural_Area        0\n",
       "Weather_Conditions         0\n",
       "Vehicle_Type               0\n",
       "Year                       0\n",
       "Month_Number               0\n",
       "Month                      0\n",
       "Day                        0\n",
       "DayofWeek                  0\n",
       "dtype: int64"
      ]
     },
     "execution_count": 15,
     "metadata": {},
     "output_type": "execute_result"
    }
   ],
   "source": [
    "road_accident.isnull().sum()"
   ]
  },
  {
   "cell_type": "markdown",
   "id": "f17baaa3-a025-4aa3-b873-c5ae42c058d8",
   "metadata": {},
   "source": [
    "<H1>CHECKING THE DATA TYPE</H1>"
   ]
  },
  {
   "cell_type": "code",
   "execution_count": 16,
   "id": "c272a9ab-0f2e-42b8-9ab8-edc2dfef9842",
   "metadata": {},
   "outputs": [
    {
     "name": "stdout",
     "output_type": "stream",
     "text": [
      "<class 'pandas.core.frame.DataFrame'>\n",
      "RangeIndex: 660679 entries, 0 to 660678\n",
      "Data columns (total 19 columns):\n",
      " #   Column                   Non-Null Count   Dtype         \n",
      "---  ------                   --------------   -----         \n",
      " 0   Index                    660679 non-null  object        \n",
      " 1   Accident_Severity        660679 non-null  object        \n",
      " 2   Accident Date            660679 non-null  datetime64[ns]\n",
      " 3   Latitude                 660679 non-null  float64       \n",
      " 4   Light_Conditions         660679 non-null  object        \n",
      " 5   District Area            660679 non-null  object        \n",
      " 6   Longitude                660679 non-null  float64       \n",
      " 7   Number_of_Casualties     660679 non-null  int64         \n",
      " 8   Number_of_Vehicles       660679 non-null  int64         \n",
      " 9   Road_Surface_Conditions  660679 non-null  object        \n",
      " 10  Road_Type                660679 non-null  object        \n",
      " 11  Urban_or_Rural_Area      660679 non-null  object        \n",
      " 12  Weather_Conditions       660679 non-null  object        \n",
      " 13  Vehicle_Type             660679 non-null  object        \n",
      " 14  Year                     660679 non-null  int32         \n",
      " 15  Month_Number             660679 non-null  int32         \n",
      " 16  Month                    660679 non-null  object        \n",
      " 17  Day                      660679 non-null  int32         \n",
      " 18  DayofWeek                660679 non-null  int32         \n",
      "dtypes: datetime64[ns](1), float64(2), int32(4), int64(2), object(10)\n",
      "memory usage: 85.7+ MB\n"
     ]
    }
   ],
   "source": [
    "road_accident.info()"
   ]
  },
  {
   "cell_type": "code",
   "execution_count": 17,
   "id": "0eeeb8b0-f611-40fd-8e82-92f143bf1c99",
   "metadata": {},
   "outputs": [],
   "source": [
    "road_accident['Index'] = road_accident['Index'].astype('category') \n",
    "road_accident['Accident_Severity'] = road_accident['Accident_Severity'].astype('category')\n",
    "road_accident['Light_Conditions'] = road_accident['Light_Conditions'].astype('category')\n",
    "road_accident['District Area'] = road_accident['District Area'].astype('category')\n",
    "road_accident['Road_Surface_Conditions'] = road_accident['Road_Surface_Conditions'].astype('category') \n",
    "road_accident['Road_Type'] = road_accident['Road_Type'].astype('category') \n",
    "road_accident['Urban_or_Rural_Area'] = road_accident['Urban_or_Rural_Area'].astype('category') \n",
    "road_accident['Weather_Conditions'] = road_accident['Weather_Conditions'].astype('category') \n",
    "road_accident['Vehicle_Type'] = road_accident['Vehicle_Type'].astype('category')\n",
    "road_accident['Month'] = road_accident['Month'].astype('category')\n",
    "road_accident['Year'] = road_accident['Year'].astype('category')"
   ]
  },
  {
   "cell_type": "code",
   "execution_count": 18,
   "id": "e916e3b6-d54e-4934-bcb7-d5057709eda4",
   "metadata": {},
   "outputs": [
    {
     "name": "stdout",
     "output_type": "stream",
     "text": [
      "<class 'pandas.core.frame.DataFrame'>\n",
      "RangeIndex: 660679 entries, 0 to 660678\n",
      "Data columns (total 19 columns):\n",
      " #   Column                   Non-Null Count   Dtype         \n",
      "---  ------                   --------------   -----         \n",
      " 0   Index                    660679 non-null  category      \n",
      " 1   Accident_Severity        660679 non-null  category      \n",
      " 2   Accident Date            660679 non-null  datetime64[ns]\n",
      " 3   Latitude                 660679 non-null  float64       \n",
      " 4   Light_Conditions         660679 non-null  category      \n",
      " 5   District Area            660679 non-null  category      \n",
      " 6   Longitude                660679 non-null  float64       \n",
      " 7   Number_of_Casualties     660679 non-null  int64         \n",
      " 8   Number_of_Vehicles       660679 non-null  int64         \n",
      " 9   Road_Surface_Conditions  660679 non-null  category      \n",
      " 10  Road_Type                660679 non-null  category      \n",
      " 11  Urban_or_Rural_Area      660679 non-null  category      \n",
      " 12  Weather_Conditions       660679 non-null  category      \n",
      " 13  Vehicle_Type             660679 non-null  category      \n",
      " 14  Year                     660679 non-null  category      \n",
      " 15  Month_Number             660679 non-null  int32         \n",
      " 16  Month                    660679 non-null  category      \n",
      " 17  Day                      660679 non-null  int32         \n",
      " 18  DayofWeek                660679 non-null  int32         \n",
      "dtypes: category(11), datetime64[ns](1), float64(2), int32(3), int64(2)\n",
      "memory usage: 61.6 MB\n"
     ]
    }
   ],
   "source": [
    "road_accident.info()"
   ]
  },
  {
   "cell_type": "markdown",
   "id": "b3627f6c-ac9d-424a-9adb-708378a60042",
   "metadata": {},
   "source": [
    "<H1>QUESTIONS AND 25 INSIGHT</H1>"
   ]
  },
  {
   "cell_type": "markdown",
   "id": "4cb44fe5-006c-4377-bdd3-548665cc2607",
   "metadata": {},
   "source": [
    "<h2>What day of the week have the most and least accidents?</h2>"
   ]
  },
  {
   "cell_type": "code",
   "execution_count": 19,
   "id": "0823b506-64c5-410e-86c5-fe6c96c3be97",
   "metadata": {},
   "outputs": [
    {
     "data": {
      "text/plain": [
       "DayofWeek\n",
       "5    107178\n",
       "2     99558\n",
       "3     99511\n",
       "4     97900\n",
       "1     94550\n",
       "6     89302\n",
       "0     72680\n",
       "Name: count, dtype: int64"
      ]
     },
     "execution_count": 19,
     "metadata": {},
     "output_type": "execute_result"
    }
   ],
   "source": [
    "road_accident['DayofWeek'].value_counts() # Monday = 0, Sunday = 6"
   ]
  },
  {
   "cell_type": "markdown",
   "id": "c8929cc2-aa28-42f8-8662-8b9b5f4f6c49",
   "metadata": {},
   "source": [
    "<h3>1. The data shows that saturday = 5 is the most prone day to accidents </h3>"
   ]
  },
  {
   "cell_type": "markdown",
   "id": "5329a6fb-918f-4b67-8ab9-7605b2f0caeb",
   "metadata": {},
   "source": [
    "<h3>2. The data shows that Monday = 0 is the least prone day to accidents</h3>"
   ]
  },
  {
   "cell_type": "markdown",
   "id": "9284688c-96d4-4ad6-beed-9b265d8be0f4",
   "metadata": {},
   "source": [
    "<h2>What year have the most and least number of accidents?</h2>"
   ]
  },
  {
   "cell_type": "code",
   "execution_count": 20,
   "id": "143b3c4d-2a2b-480a-bbe5-6823c9d35f7a",
   "metadata": {},
   "outputs": [
    {
     "data": {
      "text/plain": [
       "Year\n",
       "2019    182115\n",
       "2020    170591\n",
       "2021    163554\n",
       "2022    144419\n",
       "Name: count, dtype: int64"
      ]
     },
     "execution_count": 20,
     "metadata": {},
     "output_type": "execute_result"
    }
   ],
   "source": [
    "road_accident['Year'].value_counts()"
   ]
  },
  {
   "cell_type": "markdown",
   "id": "6ec88399-dcb3-46a0-a016-9ecb496c706e",
   "metadata": {},
   "source": [
    "<h3>3. The data shows that 2019 has the most number of accidents</h3>"
   ]
  },
  {
   "cell_type": "markdown",
   "id": "ff815094-1662-4d46-9d14-5d48fe9b81cb",
   "metadata": {},
   "source": [
    "<h3>4. The data shows that 2022 has the least number of accidents</h3>"
   ]
  },
  {
   "cell_type": "markdown",
   "id": "d6f06bd7-86c5-4d39-9a84-34bc8f9915b1",
   "metadata": {},
   "source": [
    "<h2>Which district area has the most and least number of casualties?</h2>"
   ]
  },
  {
   "cell_type": "code",
   "execution_count": 21,
   "id": "ad2f747f-f27e-4ec4-b8bd-f00eedd94727",
   "metadata": {},
   "outputs": [
    {
     "data": {
      "text/plain": [
       "'Birmingham'"
      ]
     },
     "execution_count": 21,
     "metadata": {},
     "output_type": "execute_result"
    }
   ],
   "source": [
    "road_accident.groupby('District Area')['Number_of_Casualties'].sum().idxmax()"
   ]
  },
  {
   "cell_type": "code",
   "execution_count": 22,
   "id": "a26f9b4d-5f6f-44ab-aa06-5b52a30064fc",
   "metadata": {},
   "outputs": [
    {
     "data": {
      "text/plain": [
       "'Clackmannanshire'"
      ]
     },
     "execution_count": 22,
     "metadata": {},
     "output_type": "execute_result"
    }
   ],
   "source": [
    "road_accident.groupby('District Area')['Number_of_Casualties'].sum().idxmin()"
   ]
  },
  {
   "cell_type": "markdown",
   "id": "66accfd2-d6c1-4c89-9369-56e7ac13d5b3",
   "metadata": {},
   "source": [
    "<h3>5. The data shows that the district area with most number of casualties is Birmingham</h3>"
   ]
  },
  {
   "cell_type": "markdown",
   "id": "2a99c8d9-c766-44a2-92b4-c9be1546349f",
   "metadata": {},
   "source": [
    "<h3>6. The data shows that the district area with least number of casualties is Clackmannanshire</h3>"
   ]
  },
  {
   "cell_type": "markdown",
   "id": "8da144c3-234d-4219-bdbf-94dad4990624",
   "metadata": {},
   "source": [
    "<h2>What weather condition does accidents least and most recorded?</h2>"
   ]
  },
  {
   "cell_type": "code",
   "execution_count": 23,
   "id": "fbfb6458-1af5-4f55-a3d1-fbdbe810f0e3",
   "metadata": {},
   "outputs": [
    {
     "data": {
      "text/plain": [
       "Weather_Conditions\n",
       "Fine no high winds       520885\n",
       "Raining no high winds     79696\n",
       "Other                     17150\n",
       "unaccounted               14128\n",
       "Raining + high winds       9615\n",
       "Fine + high winds          8554\n",
       "Snowing no high winds      6238\n",
       "Fog or mist                3528\n",
       "Snowing + high winds        885\n",
       "Name: count, dtype: int64"
      ]
     },
     "execution_count": 23,
     "metadata": {},
     "output_type": "execute_result"
    }
   ],
   "source": [
    "road_accident['Weather_Conditions'].value_counts()"
   ]
  },
  {
   "cell_type": "markdown",
   "id": "68fc3b55-7785-4c8c-b8b7-f4e7e3c96764",
   "metadata": {},
   "source": [
    "<h3>7. The data shows that accidents mostly occured in Fine and no high winds weather condition</h3>"
   ]
  },
  {
   "cell_type": "markdown",
   "id": "353adf8e-cd7e-48e8-80c8-e7f3d8681016",
   "metadata": {},
   "source": [
    "<h3>8. The data shows that accidents least occured in Snowing + high winds weather condition</h3>"
   ]
  },
  {
   "cell_type": "markdown",
   "id": "453ecd1e-c5b6-447b-924a-55fba3194a83",
   "metadata": {},
   "source": [
    "<h2>What road type has the least and most number of accidents?</h2>"
   ]
  },
  {
   "cell_type": "code",
   "execution_count": 24,
   "id": "5e6357c0-c113-4c13-9bcd-2288d25c84fa",
   "metadata": {},
   "outputs": [
    {
     "data": {
      "text/plain": [
       "Road_Type\n",
       "Dual carriageway       99424\n",
       "One way street         13559\n",
       "Roundabout             43992\n",
       "Single carriageway    492143\n",
       "Slip road               7041\n",
       "unaccounted             4520\n",
       "dtype: int64"
      ]
     },
     "execution_count": 24,
     "metadata": {},
     "output_type": "execute_result"
    }
   ],
   "source": [
    "road_accident.groupby('Road_Type').size()"
   ]
  },
  {
   "cell_type": "markdown",
   "id": "96661999-39be-41f5-88e5-d103be8674cf",
   "metadata": {},
   "source": [
    "<h3>9. The data shows that Single carriageway type of road has the most number of accidents </h3>"
   ]
  },
  {
   "cell_type": "markdown",
   "id": "de9dd049-8bf1-4ba3-8b3e-31ce4fbb4efd",
   "metadata": {},
   "source": [
    "<h3>10. The data shows that Slip road type of road has the least number of accidents if the unaccounted is exempted\n",
    " </h3>"
   ]
  },
  {
   "cell_type": "markdown",
   "id": "4fcdff2b-3298-4cfd-b102-c47eee3da633",
   "metadata": {},
   "source": [
    "<h2>What type of area does accidents happen the most?</h2>"
   ]
  },
  {
   "cell_type": "code",
   "execution_count": 25,
   "id": "3ef997a4-d35e-47ed-85e5-42c972323470",
   "metadata": {},
   "outputs": [
    {
     "data": {
      "text/plain": [
       "Urban_or_Rural_Area\n",
       "Rural          238990\n",
       "Unallocated        11\n",
       "Urban          421678\n",
       "dtype: int64"
      ]
     },
     "execution_count": 25,
     "metadata": {},
     "output_type": "execute_result"
    }
   ],
   "source": [
    "road_accident.groupby('Urban_or_Rural_Area').size()"
   ]
  },
  {
   "cell_type": "markdown",
   "id": "96ee85fe-f44a-4527-9e5d-72671655e45a",
   "metadata": {},
   "source": [
    "<h3>11. The result shows that accidents mostly happens on urban areas</h3>"
   ]
  },
  {
   "cell_type": "markdown",
   "id": "bc8dd025-0ea8-45ea-8cfb-90b2ef1fc51b",
   "metadata": {},
   "source": [
    "<h2>What month does accidents least and mostly happen?</h2>"
   ]
  },
  {
   "cell_type": "code",
   "execution_count": 26,
   "id": "4c163ec6-d6be-47b4-90a9-acc117640fed",
   "metadata": {},
   "outputs": [
    {
     "data": {
      "text/plain": [
       "Month\n",
       "April        51744\n",
       "August       53913\n",
       "December     51836\n",
       "February     49491\n",
       "January      52872\n",
       "July         57445\n",
       "June         56481\n",
       "March        54086\n",
       "May          56352\n",
       "November     60424\n",
       "October      59580\n",
       "September    56455\n",
       "dtype: int64"
      ]
     },
     "execution_count": 26,
     "metadata": {},
     "output_type": "execute_result"
    }
   ],
   "source": [
    "road_accident.groupby('Month').size()"
   ]
  },
  {
   "cell_type": "markdown",
   "id": "234413ac-5fd3-423c-beca-2fbb5646da37",
   "metadata": {},
   "source": [
    "<h3>12. According to the result, the month of november has the most numbers of accidents recorded</h3>"
   ]
  },
  {
   "cell_type": "markdown",
   "id": "74ce5d8b-b3da-4340-a8c5-baf5c5d664ab",
   "metadata": {},
   "source": [
    "<h3>13. According to the result, the month of february has the least numbers of accidents recorded</h3>"
   ]
  },
  {
   "cell_type": "markdown",
   "id": "d2c331cd-b29c-4c24-9f8b-50998bd69f58",
   "metadata": {},
   "source": [
    "<h2>The distribution of accidents by accident severity and vehicle type</h2>"
   ]
  },
  {
   "cell_type": "code",
   "execution_count": 27,
   "id": "6559c03e-ae26-4d19-94a5-a55e5f66b74a",
   "metadata": {},
   "outputs": [
    {
     "data": {
      "text/html": [
       "<div>\n",
       "<style scoped>\n",
       "    .dataframe tbody tr th:only-of-type {\n",
       "        vertical-align: middle;\n",
       "    }\n",
       "\n",
       "    .dataframe tbody tr th {\n",
       "        vertical-align: top;\n",
       "    }\n",
       "\n",
       "    .dataframe thead th {\n",
       "        text-align: right;\n",
       "    }\n",
       "</style>\n",
       "<table border=\"1\" class=\"dataframe\">\n",
       "  <thead>\n",
       "    <tr style=\"text-align: right;\">\n",
       "      <th>Vehicle_Type</th>\n",
       "      <th>Agricultural vehicle</th>\n",
       "      <th>Bus or coach (17 or more pass seats)</th>\n",
       "      <th>Car</th>\n",
       "      <th>Data missing or out of range</th>\n",
       "      <th>Goods 7.5 tonnes mgw and over</th>\n",
       "      <th>Goods over 3.5t. and under 7.5t</th>\n",
       "      <th>Minibus (8 - 16 passenger seats)</th>\n",
       "      <th>Motorcycle 125cc and under</th>\n",
       "      <th>Motorcycle 50cc and under</th>\n",
       "      <th>Motorcycle over 125cc and up to 500cc</th>\n",
       "      <th>Motorcycle over 500cc</th>\n",
       "      <th>Other vehicle</th>\n",
       "      <th>Pedal cycle</th>\n",
       "      <th>Ridden horse</th>\n",
       "      <th>Taxi/Private hire car</th>\n",
       "      <th>Van / Goods 3.5 tonnes mgw or under</th>\n",
       "    </tr>\n",
       "    <tr>\n",
       "      <th>Accident_Severity</th>\n",
       "      <th></th>\n",
       "      <th></th>\n",
       "      <th></th>\n",
       "      <th></th>\n",
       "      <th></th>\n",
       "      <th></th>\n",
       "      <th></th>\n",
       "      <th></th>\n",
       "      <th></th>\n",
       "      <th></th>\n",
       "      <th></th>\n",
       "      <th></th>\n",
       "      <th></th>\n",
       "      <th></th>\n",
       "      <th></th>\n",
       "      <th></th>\n",
       "    </tr>\n",
       "  </thead>\n",
       "  <tbody>\n",
       "    <tr>\n",
       "      <th>Fatal</th>\n",
       "      <td>21</td>\n",
       "      <td>325</td>\n",
       "      <td>6577</td>\n",
       "      <td>0</td>\n",
       "      <td>216</td>\n",
       "      <td>67</td>\n",
       "      <td>29</td>\n",
       "      <td>189</td>\n",
       "      <td>95</td>\n",
       "      <td>105</td>\n",
       "      <td>339</td>\n",
       "      <td>70</td>\n",
       "      <td>6</td>\n",
       "      <td>0</td>\n",
       "      <td>155</td>\n",
       "      <td>467</td>\n",
       "    </tr>\n",
       "    <tr>\n",
       "      <th>Serious</th>\n",
       "      <td>282</td>\n",
       "      <td>3373</td>\n",
       "      <td>66461</td>\n",
       "      <td>0</td>\n",
       "      <td>2321</td>\n",
       "      <td>857</td>\n",
       "      <td>276</td>\n",
       "      <td>2031</td>\n",
       "      <td>1014</td>\n",
       "      <td>1014</td>\n",
       "      <td>3457</td>\n",
       "      <td>767</td>\n",
       "      <td>39</td>\n",
       "      <td>0</td>\n",
       "      <td>1771</td>\n",
       "      <td>4554</td>\n",
       "    </tr>\n",
       "    <tr>\n",
       "      <th>Slight</th>\n",
       "      <td>1644</td>\n",
       "      <td>22180</td>\n",
       "      <td>424954</td>\n",
       "      <td>6</td>\n",
       "      <td>14770</td>\n",
       "      <td>5172</td>\n",
       "      <td>1671</td>\n",
       "      <td>13049</td>\n",
       "      <td>6494</td>\n",
       "      <td>6537</td>\n",
       "      <td>21861</td>\n",
       "      <td>4800</td>\n",
       "      <td>152</td>\n",
       "      <td>4</td>\n",
       "      <td>11368</td>\n",
       "      <td>29139</td>\n",
       "    </tr>\n",
       "  </tbody>\n",
       "</table>\n",
       "</div>"
      ],
      "text/plain": [
       "Vehicle_Type       Agricultural vehicle  Bus or coach (17 or more pass seats)  \\\n",
       "Accident_Severity                                                               \n",
       "Fatal                                21                                   325   \n",
       "Serious                             282                                  3373   \n",
       "Slight                             1644                                 22180   \n",
       "\n",
       "Vehicle_Type          Car  Data missing or out of range  \\\n",
       "Accident_Severity                                         \n",
       "Fatal                6577                             0   \n",
       "Serious             66461                             0   \n",
       "Slight             424954                             6   \n",
       "\n",
       "Vehicle_Type       Goods 7.5 tonnes mgw and over  \\\n",
       "Accident_Severity                                  \n",
       "Fatal                                        216   \n",
       "Serious                                     2321   \n",
       "Slight                                     14770   \n",
       "\n",
       "Vehicle_Type       Goods over 3.5t. and under 7.5t  \\\n",
       "Accident_Severity                                    \n",
       "Fatal                                           67   \n",
       "Serious                                        857   \n",
       "Slight                                        5172   \n",
       "\n",
       "Vehicle_Type       Minibus (8 - 16 passenger seats)  \\\n",
       "Accident_Severity                                     \n",
       "Fatal                                            29   \n",
       "Serious                                         276   \n",
       "Slight                                         1671   \n",
       "\n",
       "Vehicle_Type       Motorcycle 125cc and under  Motorcycle 50cc and under  \\\n",
       "Accident_Severity                                                          \n",
       "Fatal                                     189                         95   \n",
       "Serious                                  2031                       1014   \n",
       "Slight                                  13049                       6494   \n",
       "\n",
       "Vehicle_Type       Motorcycle over 125cc and up to 500cc  \\\n",
       "Accident_Severity                                          \n",
       "Fatal                                                105   \n",
       "Serious                                             1014   \n",
       "Slight                                              6537   \n",
       "\n",
       "Vehicle_Type       Motorcycle over 500cc  Other vehicle  Pedal cycle  \\\n",
       "Accident_Severity                                                      \n",
       "Fatal                                339             70            6   \n",
       "Serious                             3457            767           39   \n",
       "Slight                             21861           4800          152   \n",
       "\n",
       "Vehicle_Type       Ridden horse  Taxi/Private hire car  \\\n",
       "Accident_Severity                                        \n",
       "Fatal                         0                    155   \n",
       "Serious                       0                   1771   \n",
       "Slight                        4                  11368   \n",
       "\n",
       "Vehicle_Type       Van / Goods 3.5 tonnes mgw or under  \n",
       "Accident_Severity                                       \n",
       "Fatal                                              467  \n",
       "Serious                                           4554  \n",
       "Slight                                           29139  "
      ]
     },
     "execution_count": 27,
     "metadata": {},
     "output_type": "execute_result"
    }
   ],
   "source": [
    "road_accident.groupby(['Accident_Severity','Vehicle_Type']).size().unstack()"
   ]
  },
  {
   "cell_type": "markdown",
   "id": "780294a5-b540-4ea9-9c70-c520bfab2a18",
   "metadata": {},
   "source": [
    "<h3>14. According to the result, The vehicle that has the most number in 3 types of accident severity is the Car</h3>"
   ]
  },
  {
   "cell_type": "markdown",
   "id": "319d2a6d-4ecc-46cd-a914-b78c5c9803ca",
   "metadata": {},
   "source": [
    "<h3>15. According to the result, The vehicle that has the least number in 3 types of accident severity is the Ridden Horse</h3>"
   ]
  },
  {
   "cell_type": "markdown",
   "id": "d7f78f2d-2f09-4baf-b81d-a583b478d97d",
   "metadata": {},
   "source": [
    "<h2>What road conditions has the most and least numbers of accidents?</h2>"
   ]
  },
  {
   "cell_type": "code",
   "execution_count": 28,
   "id": "a0934f3a-c206-4b83-8d18-07bef8abd48f",
   "metadata": {},
   "outputs": [
    {
     "data": {
      "text/plain": [
       "Road_Surface_Conditions\n",
       "Dry                     447821\n",
       "Wet or damp             186708\n",
       "Frost or ice             18517\n",
       "Snow                      5890\n",
       "Flood over 3cm. deep      1017\n",
       "unaccounted                726\n",
       "Name: count, dtype: int64"
      ]
     },
     "execution_count": 28,
     "metadata": {},
     "output_type": "execute_result"
    }
   ],
   "source": [
    "road_accident['Road_Surface_Conditions'].value_counts()"
   ]
  },
  {
   "cell_type": "markdown",
   "id": "2d2f3b10-c095-4d88-a62a-8e23fc81571f",
   "metadata": {},
   "source": [
    "<h3>16. According to the result, the road condition with the most numbers of accidents is dry road</h3>"
   ]
  },
  {
   "cell_type": "markdown",
   "id": "1c5589eb-bd4c-4fe1-ab0d-d54959789a83",
   "metadata": {},
   "source": [
    "<h3>17. According to the result, the road condition with the least numbers of accidents is Flood over 3cm. deep road</h3>"
   ]
  },
  {
   "cell_type": "markdown",
   "id": "547c8095-03f6-4760-af7b-000e71c7069d",
   "metadata": {},
   "source": [
    "<h2>What light condition has the most and least numbers of accident? </h2>"
   ]
  },
  {
   "cell_type": "code",
   "execution_count": 29,
   "id": "c79ffee1-62c9-4025-9549-21ecaffddbae",
   "metadata": {},
   "outputs": [
    {
     "data": {
      "text/plain": [
       "Light_Conditions\n",
       "Daylight                       484880\n",
       "Darkness - lights lit          129335\n",
       "Darkness - no lighting          37437\n",
       "Darkness - lighting unknown      6484\n",
       "Darkness - lights unlit          2543\n",
       "Name: count, dtype: int64"
      ]
     },
     "execution_count": 29,
     "metadata": {},
     "output_type": "execute_result"
    }
   ],
   "source": [
    "road_accident['Light_Conditions'].value_counts()"
   ]
  },
  {
   "cell_type": "markdown",
   "id": "5d3378a5-1e54-4034-9339-b263312ac74e",
   "metadata": {},
   "source": [
    "<h3>18. According to the result, daylight has the most number of accidents recorded</h3>"
   ]
  },
  {
   "cell_type": "markdown",
   "id": "705ece5e-1f1a-4d7d-81a5-8c0e534451db",
   "metadata": {},
   "source": [
    "<h3>19. According to the result, Darkness - lights unlit has the least number of accidents recorded</h3>"
   ]
  },
  {
   "cell_type": "markdown",
   "id": "acd12934-99f3-42b3-9cee-3f758fdb18f2",
   "metadata": {},
   "source": [
    "<h2>What is the maximum number of casualties in a single accident?</h2>"
   ]
  },
  {
   "cell_type": "code",
   "execution_count": 30,
   "id": "b920d6b1-a50b-4000-9eab-90a607684b84",
   "metadata": {},
   "outputs": [
    {
     "data": {
      "text/plain": [
       "Number_of_Casualties\n",
       "1     504041\n",
       "2     107971\n",
       "3      30776\n",
       "4      11156\n",
       "5       4123\n",
       "6       1525\n",
       "7        539\n",
       "8        214\n",
       "9        112\n",
       "10        58\n",
       "11        36\n",
       "13        24\n",
       "12        21\n",
       "14        13\n",
       "15        11\n",
       "17         8\n",
       "19         7\n",
       "16         7\n",
       "18         6\n",
       "22         5\n",
       "21         4\n",
       "29         3\n",
       "40         2\n",
       "28         2\n",
       "24         2\n",
       "27         2\n",
       "42         2\n",
       "25         1\n",
       "32         1\n",
       "68         1\n",
       "45         1\n",
       "62         1\n",
       "47         1\n",
       "48         1\n",
       "26         1\n",
       "43         1\n",
       "Name: count, dtype: int64"
      ]
     },
     "execution_count": 30,
     "metadata": {},
     "output_type": "execute_result"
    }
   ],
   "source": [
    "road_accident['Number_of_Casualties'].value_counts()"
   ]
  },
  {
   "cell_type": "markdown",
   "id": "9f08e37f-e35e-42de-9d95-39a25e75a273",
   "metadata": {},
   "source": [
    "<h3>20. According to the result, the maximum casualties of accidents ever recorded is 504041</h3>"
   ]
  },
  {
   "cell_type": "markdown",
   "id": "7d6bf9f4-3732-4cf6-9f4d-3ce61aa42973",
   "metadata": {},
   "source": [
    "<h2>What is the number of accidents per month in each year?</h2>"
   ]
  },
  {
   "cell_type": "code",
   "execution_count": 31,
   "id": "206b05cf-925b-4489-bd42-f5ed0e55e8c4",
   "metadata": {},
   "outputs": [
    {
     "data": {
      "text/html": [
       "<div>\n",
       "<style scoped>\n",
       "    .dataframe tbody tr th:only-of-type {\n",
       "        vertical-align: middle;\n",
       "    }\n",
       "\n",
       "    .dataframe tbody tr th {\n",
       "        vertical-align: top;\n",
       "    }\n",
       "\n",
       "    .dataframe thead th {\n",
       "        text-align: right;\n",
       "    }\n",
       "</style>\n",
       "<table border=\"1\" class=\"dataframe\">\n",
       "  <thead>\n",
       "    <tr style=\"text-align: right;\">\n",
       "      <th>Year</th>\n",
       "      <th>2019</th>\n",
       "      <th>2020</th>\n",
       "      <th>2021</th>\n",
       "      <th>2022</th>\n",
       "    </tr>\n",
       "    <tr>\n",
       "      <th>Month</th>\n",
       "      <th></th>\n",
       "      <th></th>\n",
       "      <th></th>\n",
       "      <th></th>\n",
       "    </tr>\n",
       "  </thead>\n",
       "  <tbody>\n",
       "    <tr>\n",
       "      <th>April</th>\n",
       "      <td>14125</td>\n",
       "      <td>13394</td>\n",
       "      <td>12715</td>\n",
       "      <td>11510</td>\n",
       "    </tr>\n",
       "    <tr>\n",
       "      <th>August</th>\n",
       "      <td>15044</td>\n",
       "      <td>13366</td>\n",
       "      <td>13415</td>\n",
       "      <td>12088</td>\n",
       "    </tr>\n",
       "    <tr>\n",
       "      <th>December</th>\n",
       "      <td>14708</td>\n",
       "      <td>13794</td>\n",
       "      <td>13709</td>\n",
       "      <td>9625</td>\n",
       "    </tr>\n",
       "    <tr>\n",
       "      <th>February</th>\n",
       "      <td>13253</td>\n",
       "      <td>14353</td>\n",
       "      <td>10950</td>\n",
       "      <td>10935</td>\n",
       "    </tr>\n",
       "    <tr>\n",
       "      <th>January</th>\n",
       "      <td>15355</td>\n",
       "      <td>14133</td>\n",
       "      <td>13417</td>\n",
       "      <td>9967</td>\n",
       "    </tr>\n",
       "    <tr>\n",
       "      <th>July</th>\n",
       "      <td>15862</td>\n",
       "      <td>14630</td>\n",
       "      <td>14300</td>\n",
       "      <td>12653</td>\n",
       "    </tr>\n",
       "    <tr>\n",
       "      <th>June</th>\n",
       "      <td>15528</td>\n",
       "      <td>14205</td>\n",
       "      <td>13936</td>\n",
       "      <td>12812</td>\n",
       "    </tr>\n",
       "    <tr>\n",
       "      <th>March</th>\n",
       "      <td>15049</td>\n",
       "      <td>13494</td>\n",
       "      <td>13202</td>\n",
       "      <td>12341</td>\n",
       "    </tr>\n",
       "    <tr>\n",
       "      <th>May</th>\n",
       "      <td>15833</td>\n",
       "      <td>14336</td>\n",
       "      <td>13811</td>\n",
       "      <td>12372</td>\n",
       "    </tr>\n",
       "    <tr>\n",
       "      <th>November</th>\n",
       "      <td>16559</td>\n",
       "      <td>14770</td>\n",
       "      <td>15473</td>\n",
       "      <td>13622</td>\n",
       "    </tr>\n",
       "    <tr>\n",
       "      <th>October</th>\n",
       "      <td>15528</td>\n",
       "      <td>15684</td>\n",
       "      <td>14834</td>\n",
       "      <td>13534</td>\n",
       "    </tr>\n",
       "    <tr>\n",
       "      <th>September</th>\n",
       "      <td>15271</td>\n",
       "      <td>14432</td>\n",
       "      <td>13792</td>\n",
       "      <td>12960</td>\n",
       "    </tr>\n",
       "  </tbody>\n",
       "</table>\n",
       "</div>"
      ],
      "text/plain": [
       "Year        2019   2020   2021   2022\n",
       "Month                                \n",
       "April      14125  13394  12715  11510\n",
       "August     15044  13366  13415  12088\n",
       "December   14708  13794  13709   9625\n",
       "February   13253  14353  10950  10935\n",
       "January    15355  14133  13417   9967\n",
       "July       15862  14630  14300  12653\n",
       "June       15528  14205  13936  12812\n",
       "March      15049  13494  13202  12341\n",
       "May        15833  14336  13811  12372\n",
       "November   16559  14770  15473  13622\n",
       "October    15528  15684  14834  13534\n",
       "September  15271  14432  13792  12960"
      ]
     },
     "execution_count": 31,
     "metadata": {},
     "output_type": "execute_result"
    }
   ],
   "source": [
    "accidentpermonth = road_accident.groupby(['Month', 'Year']).size()\n",
    "accidentpermonth.unstack()"
   ]
  },
  {
   "cell_type": "markdown",
   "id": "b0132067-890b-4a84-92b8-12f48337b09f",
   "metadata": {},
   "source": [
    "<h3>21. Based on the result, November is consistenly the peak month of accidents across all four years with two consequtive above 9% rate (2021, and 2022). Hoevwer, October also has high percentage with three ratings of 9% and above but November slightly beats it in most years.</h3>"
   ]
  },
  {
   "cell_type": "markdown",
   "id": "2b2de261-9a68-4011-b608-53becbd84029",
   "metadata": {},
   "source": [
    "<h3>22. Based on the result, February has the lowest percentage of accidents especially 2021 at just 6.7%. It suggests that road accidents tend to be more common in October, while February is generally a safer month.</h3>"
   ]
  },
  {
   "cell_type": "markdown",
   "id": "abcfe0e1-a0a4-4ce4-bee0-4982c74e98c3",
   "metadata": {},
   "source": [
    "<h2>Where do the latitude and longitude values fall within the data sets?</h2>"
   ]
  },
  {
   "cell_type": "code",
   "execution_count": 32,
   "id": "cf0323fe-e138-4dff-91f9-6ab6bc4caeba",
   "metadata": {},
   "outputs": [
    {
     "data": {
      "text/html": [
       "<div>\n",
       "<style scoped>\n",
       "    .dataframe tbody tr th:only-of-type {\n",
       "        vertical-align: middle;\n",
       "    }\n",
       "\n",
       "    .dataframe tbody tr th {\n",
       "        vertical-align: top;\n",
       "    }\n",
       "\n",
       "    .dataframe thead th {\n",
       "        text-align: right;\n",
       "    }\n",
       "</style>\n",
       "<table border=\"1\" class=\"dataframe\">\n",
       "  <thead>\n",
       "    <tr style=\"text-align: right;\">\n",
       "      <th></th>\n",
       "      <th>Latitude</th>\n",
       "      <th>Longitude</th>\n",
       "    </tr>\n",
       "  </thead>\n",
       "  <tbody>\n",
       "    <tr>\n",
       "      <th>count</th>\n",
       "      <td>660679.000000</td>\n",
       "      <td>660679.000000</td>\n",
       "    </tr>\n",
       "    <tr>\n",
       "      <th>mean</th>\n",
       "      <td>52.553866</td>\n",
       "      <td>-1.431210</td>\n",
       "    </tr>\n",
       "    <tr>\n",
       "      <th>std</th>\n",
       "      <td>1.406896</td>\n",
       "      <td>1.383302</td>\n",
       "    </tr>\n",
       "    <tr>\n",
       "      <th>min</th>\n",
       "      <td>49.914430</td>\n",
       "      <td>-7.516225</td>\n",
       "    </tr>\n",
       "    <tr>\n",
       "      <th>25%</th>\n",
       "      <td>51.490696</td>\n",
       "      <td>-2.332191</td>\n",
       "    </tr>\n",
       "    <tr>\n",
       "      <th>50%</th>\n",
       "      <td>52.315755</td>\n",
       "      <td>-1.411761</td>\n",
       "    </tr>\n",
       "    <tr>\n",
       "      <th>75%</th>\n",
       "      <td>53.453444</td>\n",
       "      <td>-0.232901</td>\n",
       "    </tr>\n",
       "    <tr>\n",
       "      <th>max</th>\n",
       "      <td>60.757544</td>\n",
       "      <td>1.762010</td>\n",
       "    </tr>\n",
       "  </tbody>\n",
       "</table>\n",
       "</div>"
      ],
      "text/plain": [
       "            Latitude      Longitude\n",
       "count  660679.000000  660679.000000\n",
       "mean       52.553866      -1.431210\n",
       "std         1.406896       1.383302\n",
       "min        49.914430      -7.516225\n",
       "25%        51.490696      -2.332191\n",
       "50%        52.315755      -1.411761\n",
       "75%        53.453444      -0.232901\n",
       "max        60.757544       1.762010"
      ]
     },
     "execution_count": 32,
     "metadata": {},
     "output_type": "execute_result"
    }
   ],
   "source": [
    "road_accident[['Latitude', 'Longitude']].describe()"
   ]
  },
  {
   "cell_type": "markdown",
   "id": "1da3b42b-7b3e-4b78-856a-c995e9f5b670",
   "metadata": {},
   "source": [
    "<h3>23. The result shows that the spans of the data set cover both northern/sothern and eastern/western regions</h3>"
   ]
  },
  {
   "cell_type": "markdown",
   "id": "503fb3db-ba18-4685-91ba-07055ea694bf",
   "metadata": {},
   "source": [
    "<h2>How many vehicles are usually involve in accidents?</h2>"
   ]
  },
  {
   "cell_type": "code",
   "execution_count": 33,
   "id": "a8ea4b7b-0f16-48b9-a126-7cae82c97718",
   "metadata": {},
   "outputs": [
    {
     "data": {
      "text/plain": [
       "count    660679.000000\n",
       "mean          1.831255\n",
       "std           0.715269\n",
       "min           1.000000\n",
       "25%           1.000000\n",
       "50%           2.000000\n",
       "75%           2.000000\n",
       "max          32.000000\n",
       "Name: Number_of_Vehicles, dtype: float64"
      ]
     },
     "execution_count": 33,
     "metadata": {},
     "output_type": "execute_result"
    }
   ],
   "source": [
    "road_accident['Number_of_Vehicles'].describe()"
   ]
  },
  {
   "cell_type": "markdown",
   "id": "130f8a98-0a0f-4d5a-9c8c-6b76e7cbb7b5",
   "metadata": {},
   "source": [
    "<h3>24. According to the result, Usually 2 vehicles are involve around</h3>"
   ]
  },
  {
   "cell_type": "markdown",
   "id": "20a38140-4545-49b5-aed4-b649906aa8e2",
   "metadata": {},
   "source": [
    "<h2>Is there a correlation between longitude and number of casualties?</h2>"
   ]
  },
  {
   "cell_type": "code",
   "execution_count": 34,
   "id": "6dd06663-1d2f-4739-9c40-d2f86a986fb5",
   "metadata": {},
   "outputs": [
    {
     "data": {
      "text/plain": [
       "np.float64(-0.0404056457884545)"
      ]
     },
     "execution_count": 34,
     "metadata": {},
     "output_type": "execute_result"
    }
   ],
   "source": [
    "road_accident['Longitude'].corr(road_accident['Number_of_Casualties'])"
   ]
  },
  {
   "cell_type": "markdown",
   "id": "4dfa2276-418d-4455-8aa8-c78f06882838",
   "metadata": {},
   "source": [
    "<h3>25. The result shows that there is no correlation between longitude and number of casualties.</h3>"
   ]
  },
  {
   "cell_type": "code",
   "execution_count": null,
   "id": "d171ad29-863d-4ab7-8e5c-8d6bb786c1dc",
   "metadata": {},
   "outputs": [],
   "source": []
  }
 ],
 "metadata": {
  "kernelspec": {
   "display_name": "Python 3 (ipykernel)",
   "language": "python",
   "name": "python3"
  },
  "language_info": {
   "codemirror_mode": {
    "name": "ipython",
    "version": 3
   },
   "file_extension": ".py",
   "mimetype": "text/x-python",
   "name": "python",
   "nbconvert_exporter": "python",
   "pygments_lexer": "ipython3",
   "version": "3.13.3"
  }
 },
 "nbformat": 4,
 "nbformat_minor": 5
}
