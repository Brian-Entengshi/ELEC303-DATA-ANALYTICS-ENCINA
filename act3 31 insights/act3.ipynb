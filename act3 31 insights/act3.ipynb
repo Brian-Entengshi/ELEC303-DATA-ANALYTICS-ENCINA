{
 "cells": [
  {
   "cell_type": "code",
   "execution_count": 1,
   "id": "e258b0c0-e701-4129-8153-2231bb34156a",
   "metadata": {},
   "outputs": [],
   "source": [
    "import pandas as pd\n",
    "import numpy as np\n",
    "import seaborn as sns\n",
    "import matplotlib.pyplot as plt\n",
    "import folium\n",
    "from folium.plugins import HeatMap\n",
    "import warnings\n",
    "warnings.filterwarnings('ignore')"
   ]
  },
  {
   "cell_type": "code",
   "execution_count": 2,
   "id": "ac287c7d-aa2e-481c-8a6e-b86b44f12649",
   "metadata": {},
   "outputs": [],
   "source": [
    "road_accident = pd.read_csv('uk_road_accident.csv')"
   ]
  },
  {
   "cell_type": "code",
   "execution_count": 3,
   "id": "5383fcb5-d451-4900-a752-164b393d3b72",
   "metadata": {},
   "outputs": [
    {
     "data": {
      "text/html": [
       "<div>\n",
       "<style scoped>\n",
       "    .dataframe tbody tr th:only-of-type {\n",
       "        vertical-align: middle;\n",
       "    }\n",
       "\n",
       "    .dataframe tbody tr th {\n",
       "        vertical-align: top;\n",
       "    }\n",
       "\n",
       "    .dataframe thead th {\n",
       "        text-align: right;\n",
       "    }\n",
       "</style>\n",
       "<table border=\"1\" class=\"dataframe\">\n",
       "  <thead>\n",
       "    <tr style=\"text-align: right;\">\n",
       "      <th></th>\n",
       "      <th>Index</th>\n",
       "      <th>Accident_Severity</th>\n",
       "      <th>Accident Date</th>\n",
       "      <th>Latitude</th>\n",
       "      <th>Light_Conditions</th>\n",
       "      <th>District Area</th>\n",
       "      <th>Longitude</th>\n",
       "      <th>Number_of_Casualties</th>\n",
       "      <th>Number_of_Vehicles</th>\n",
       "      <th>Road_Surface_Conditions</th>\n",
       "      <th>Road_Type</th>\n",
       "      <th>Urban_or_Rural_Area</th>\n",
       "      <th>Weather_Conditions</th>\n",
       "      <th>Vehicle_Type</th>\n",
       "    </tr>\n",
       "  </thead>\n",
       "  <tbody>\n",
       "    <tr>\n",
       "      <th>0</th>\n",
       "      <td>200701BS64157</td>\n",
       "      <td>Serious</td>\n",
       "      <td>5/6/2019</td>\n",
       "      <td>51.506187</td>\n",
       "      <td>Darkness - lights lit</td>\n",
       "      <td>Kensington and Chelsea</td>\n",
       "      <td>-0.209082</td>\n",
       "      <td>1</td>\n",
       "      <td>2</td>\n",
       "      <td>Dry</td>\n",
       "      <td>Single carriageway</td>\n",
       "      <td>Urban</td>\n",
       "      <td>Fine no high winds</td>\n",
       "      <td>Car</td>\n",
       "    </tr>\n",
       "    <tr>\n",
       "      <th>1</th>\n",
       "      <td>200701BS65737</td>\n",
       "      <td>Serious</td>\n",
       "      <td>2/7/2019</td>\n",
       "      <td>51.495029</td>\n",
       "      <td>Daylight</td>\n",
       "      <td>Kensington and Chelsea</td>\n",
       "      <td>-0.173647</td>\n",
       "      <td>1</td>\n",
       "      <td>2</td>\n",
       "      <td>Wet or damp</td>\n",
       "      <td>Single carriageway</td>\n",
       "      <td>Urban</td>\n",
       "      <td>Raining no high winds</td>\n",
       "      <td>Car</td>\n",
       "    </tr>\n",
       "    <tr>\n",
       "      <th>2</th>\n",
       "      <td>200701BS66127</td>\n",
       "      <td>Serious</td>\n",
       "      <td>26-08-2019</td>\n",
       "      <td>51.517715</td>\n",
       "      <td>Darkness - lighting unknown</td>\n",
       "      <td>Kensington and Chelsea</td>\n",
       "      <td>-0.210215</td>\n",
       "      <td>1</td>\n",
       "      <td>3</td>\n",
       "      <td>Dry</td>\n",
       "      <td>NaN</td>\n",
       "      <td>Urban</td>\n",
       "      <td>NaN</td>\n",
       "      <td>Taxi/Private hire car</td>\n",
       "    </tr>\n",
       "    <tr>\n",
       "      <th>3</th>\n",
       "      <td>200701BS66128</td>\n",
       "      <td>Serious</td>\n",
       "      <td>16-08-2019</td>\n",
       "      <td>51.495478</td>\n",
       "      <td>Daylight</td>\n",
       "      <td>Kensington and Chelsea</td>\n",
       "      <td>-0.202731</td>\n",
       "      <td>1</td>\n",
       "      <td>4</td>\n",
       "      <td>Dry</td>\n",
       "      <td>Single carriageway</td>\n",
       "      <td>Urban</td>\n",
       "      <td>Fine no high winds</td>\n",
       "      <td>Bus or coach (17 or more pass seats)</td>\n",
       "    </tr>\n",
       "    <tr>\n",
       "      <th>4</th>\n",
       "      <td>200701BS66837</td>\n",
       "      <td>Slight</td>\n",
       "      <td>3/9/2019</td>\n",
       "      <td>51.488576</td>\n",
       "      <td>Darkness - lights lit</td>\n",
       "      <td>Kensington and Chelsea</td>\n",
       "      <td>-0.192487</td>\n",
       "      <td>1</td>\n",
       "      <td>2</td>\n",
       "      <td>Dry</td>\n",
       "      <td>NaN</td>\n",
       "      <td>Urban</td>\n",
       "      <td>NaN</td>\n",
       "      <td>Other vehicle</td>\n",
       "    </tr>\n",
       "    <tr>\n",
       "      <th>...</th>\n",
       "      <td>...</td>\n",
       "      <td>...</td>\n",
       "      <td>...</td>\n",
       "      <td>...</td>\n",
       "      <td>...</td>\n",
       "      <td>...</td>\n",
       "      <td>...</td>\n",
       "      <td>...</td>\n",
       "      <td>...</td>\n",
       "      <td>...</td>\n",
       "      <td>...</td>\n",
       "      <td>...</td>\n",
       "      <td>...</td>\n",
       "      <td>...</td>\n",
       "    </tr>\n",
       "    <tr>\n",
       "      <th>660674</th>\n",
       "      <td>201091NM01760</td>\n",
       "      <td>Slight</td>\n",
       "      <td>18-02-2022</td>\n",
       "      <td>57.374005</td>\n",
       "      <td>Daylight</td>\n",
       "      <td>Highland</td>\n",
       "      <td>-3.467828</td>\n",
       "      <td>2</td>\n",
       "      <td>1</td>\n",
       "      <td>Dry</td>\n",
       "      <td>Single carriageway</td>\n",
       "      <td>Rural</td>\n",
       "      <td>Fine no high winds</td>\n",
       "      <td>Car</td>\n",
       "    </tr>\n",
       "    <tr>\n",
       "      <th>660675</th>\n",
       "      <td>201091NM01881</td>\n",
       "      <td>Slight</td>\n",
       "      <td>21-02-2022</td>\n",
       "      <td>57.232273</td>\n",
       "      <td>Darkness - no lighting</td>\n",
       "      <td>Highland</td>\n",
       "      <td>-3.809281</td>\n",
       "      <td>1</td>\n",
       "      <td>1</td>\n",
       "      <td>Frost or ice</td>\n",
       "      <td>Single carriageway</td>\n",
       "      <td>Rural</td>\n",
       "      <td>Fine no high winds</td>\n",
       "      <td>Car</td>\n",
       "    </tr>\n",
       "    <tr>\n",
       "      <th>660676</th>\n",
       "      <td>201091NM01935</td>\n",
       "      <td>Slight</td>\n",
       "      <td>23-02-2022</td>\n",
       "      <td>57.585044</td>\n",
       "      <td>Daylight</td>\n",
       "      <td>Highland</td>\n",
       "      <td>-3.862727</td>\n",
       "      <td>1</td>\n",
       "      <td>3</td>\n",
       "      <td>Frost or ice</td>\n",
       "      <td>Single carriageway</td>\n",
       "      <td>Rural</td>\n",
       "      <td>Fine no high winds</td>\n",
       "      <td>Car</td>\n",
       "    </tr>\n",
       "    <tr>\n",
       "      <th>660677</th>\n",
       "      <td>201091NM01964</td>\n",
       "      <td>Serious</td>\n",
       "      <td>23-02-2022</td>\n",
       "      <td>57.214898</td>\n",
       "      <td>Darkness - no lighting</td>\n",
       "      <td>Highland</td>\n",
       "      <td>-3.823997</td>\n",
       "      <td>1</td>\n",
       "      <td>2</td>\n",
       "      <td>Wet or damp</td>\n",
       "      <td>Single carriageway</td>\n",
       "      <td>Rural</td>\n",
       "      <td>Fine no high winds</td>\n",
       "      <td>Motorcycle over 500cc</td>\n",
       "    </tr>\n",
       "    <tr>\n",
       "      <th>660678</th>\n",
       "      <td>201091NM02142</td>\n",
       "      <td>Serious</td>\n",
       "      <td>28-02-2022</td>\n",
       "      <td>57.575210</td>\n",
       "      <td>Daylight</td>\n",
       "      <td>Highland</td>\n",
       "      <td>-3.895673</td>\n",
       "      <td>1</td>\n",
       "      <td>1</td>\n",
       "      <td>Wet or damp</td>\n",
       "      <td>Dual carriageway</td>\n",
       "      <td>Rural</td>\n",
       "      <td>Snowing no high winds</td>\n",
       "      <td>Car</td>\n",
       "    </tr>\n",
       "  </tbody>\n",
       "</table>\n",
       "<p>660679 rows × 14 columns</p>\n",
       "</div>"
      ],
      "text/plain": [
       "                Index Accident_Severity Accident Date   Latitude  \\\n",
       "0       200701BS64157           Serious      5/6/2019  51.506187   \n",
       "1       200701BS65737           Serious      2/7/2019  51.495029   \n",
       "2       200701BS66127           Serious    26-08-2019  51.517715   \n",
       "3       200701BS66128           Serious    16-08-2019  51.495478   \n",
       "4       200701BS66837            Slight      3/9/2019  51.488576   \n",
       "...               ...               ...           ...        ...   \n",
       "660674  201091NM01760            Slight    18-02-2022  57.374005   \n",
       "660675  201091NM01881            Slight    21-02-2022  57.232273   \n",
       "660676  201091NM01935            Slight    23-02-2022  57.585044   \n",
       "660677  201091NM01964           Serious    23-02-2022  57.214898   \n",
       "660678  201091NM02142           Serious    28-02-2022  57.575210   \n",
       "\n",
       "                   Light_Conditions           District Area  Longitude  \\\n",
       "0             Darkness - lights lit  Kensington and Chelsea  -0.209082   \n",
       "1                          Daylight  Kensington and Chelsea  -0.173647   \n",
       "2       Darkness - lighting unknown  Kensington and Chelsea  -0.210215   \n",
       "3                          Daylight  Kensington and Chelsea  -0.202731   \n",
       "4             Darkness - lights lit  Kensington and Chelsea  -0.192487   \n",
       "...                             ...                     ...        ...   \n",
       "660674                     Daylight                Highland  -3.467828   \n",
       "660675       Darkness - no lighting                Highland  -3.809281   \n",
       "660676                     Daylight                Highland  -3.862727   \n",
       "660677       Darkness - no lighting                Highland  -3.823997   \n",
       "660678                     Daylight                Highland  -3.895673   \n",
       "\n",
       "        Number_of_Casualties  Number_of_Vehicles Road_Surface_Conditions  \\\n",
       "0                          1                   2                     Dry   \n",
       "1                          1                   2             Wet or damp   \n",
       "2                          1                   3                     Dry   \n",
       "3                          1                   4                     Dry   \n",
       "4                          1                   2                     Dry   \n",
       "...                      ...                 ...                     ...   \n",
       "660674                     2                   1                     Dry   \n",
       "660675                     1                   1            Frost or ice   \n",
       "660676                     1                   3            Frost or ice   \n",
       "660677                     1                   2             Wet or damp   \n",
       "660678                     1                   1             Wet or damp   \n",
       "\n",
       "                 Road_Type Urban_or_Rural_Area     Weather_Conditions  \\\n",
       "0       Single carriageway               Urban     Fine no high winds   \n",
       "1       Single carriageway               Urban  Raining no high winds   \n",
       "2                      NaN               Urban                    NaN   \n",
       "3       Single carriageway               Urban     Fine no high winds   \n",
       "4                      NaN               Urban                    NaN   \n",
       "...                    ...                 ...                    ...   \n",
       "660674  Single carriageway               Rural     Fine no high winds   \n",
       "660675  Single carriageway               Rural     Fine no high winds   \n",
       "660676  Single carriageway               Rural     Fine no high winds   \n",
       "660677  Single carriageway               Rural     Fine no high winds   \n",
       "660678    Dual carriageway               Rural  Snowing no high winds   \n",
       "\n",
       "                                Vehicle_Type  \n",
       "0                                        Car  \n",
       "1                                        Car  \n",
       "2                      Taxi/Private hire car  \n",
       "3       Bus or coach (17 or more pass seats)  \n",
       "4                              Other vehicle  \n",
       "...                                      ...  \n",
       "660674                                   Car  \n",
       "660675                                   Car  \n",
       "660676                                   Car  \n",
       "660677                 Motorcycle over 500cc  \n",
       "660678                                   Car  \n",
       "\n",
       "[660679 rows x 14 columns]"
      ]
     },
     "execution_count": 3,
     "metadata": {},
     "output_type": "execute_result"
    }
   ],
   "source": [
    "road_accident"
   ]
  },
  {
   "cell_type": "code",
   "execution_count": 4,
   "id": "1553594f-6cff-405e-9976-15749fcbc29a",
   "metadata": {},
   "outputs": [],
   "source": [
    "road_accident['Accident Date'] = road_accident['Accident Date'].astype('str')\n",
    "road_accident['Accident Date'] = road_accident['Accident Date'].str.strip()\n",
    "road_accident['Accident Date'] = road_accident['Accident Date'].str.replace('/', '-')"
   ]
  },
  {
   "cell_type": "code",
   "execution_count": 5,
   "id": "38e24139-79eb-49a6-abe9-b34adf01d07f",
   "metadata": {},
   "outputs": [],
   "source": [
    "road_accident['Accident Date'] = pd.to_datetime(road_accident['Accident Date'], dayfirst=True, errors='coerce')"
   ]
  },
  {
   "cell_type": "code",
   "execution_count": 6,
   "id": "0f5b925c-3a66-4623-a814-a1efa914850f",
   "metadata": {},
   "outputs": [
    {
     "data": {
      "text/plain": [
       "Index                          0\n",
       "Accident_Severity              0\n",
       "Accident Date                  0\n",
       "Latitude                      25\n",
       "Light_Conditions               0\n",
       "District Area                  0\n",
       "Longitude                     26\n",
       "Number_of_Casualties           0\n",
       "Number_of_Vehicles             0\n",
       "Road_Surface_Conditions      726\n",
       "Road_Type                   4520\n",
       "Urban_or_Rural_Area           15\n",
       "Weather_Conditions         14128\n",
       "Vehicle_Type                   0\n",
       "Year                           0\n",
       "Month                          0\n",
       "Day                            0\n",
       "DayOfWeek                      0\n",
       "dtype: int64"
      ]
     },
     "execution_count": 6,
     "metadata": {},
     "output_type": "execute_result"
    }
   ],
   "source": [
    "road_accident['Year'] = road_accident['Accident Date'].dt.year\n",
    "road_accident['Month'] = road_accident['Accident Date'].dt.month\n",
    "road_accident['Day'] = road_accident['Accident Date'].dt.day\n",
    "road_accident['DayOfWeek'] = road_accident['Accident Date'].dt.dayofweek\n",
    "road_accident.isnull().sum()"
   ]
  },
  {
   "cell_type": "markdown",
   "id": "4ccdceea-7403-43ba-ac47-deaee021be6c",
   "metadata": {},
   "source": [
    "<h1>CHECK FOR NULL VALUES</h1>"
   ]
  },
  {
   "cell_type": "code",
   "execution_count": 7,
   "id": "e0fe45cd-2bb1-41ad-9ecb-8f66e80c10cf",
   "metadata": {},
   "outputs": [
    {
     "data": {
      "text/plain": [
       "Index                          0\n",
       "Accident_Severity              0\n",
       "Accident Date                  0\n",
       "Latitude                      25\n",
       "Light_Conditions               0\n",
       "District Area                  0\n",
       "Longitude                     26\n",
       "Number_of_Casualties           0\n",
       "Number_of_Vehicles             0\n",
       "Road_Surface_Conditions      726\n",
       "Road_Type                   4520\n",
       "Urban_or_Rural_Area           15\n",
       "Weather_Conditions         14128\n",
       "Vehicle_Type                   0\n",
       "Year                           0\n",
       "Month                          0\n",
       "Day                            0\n",
       "DayOfWeek                      0\n",
       "dtype: int64"
      ]
     },
     "execution_count": 7,
     "metadata": {},
     "output_type": "execute_result"
    }
   ],
   "source": [
    "road_accident.isnull().sum()"
   ]
  },
  {
   "cell_type": "code",
   "execution_count": 8,
   "id": "6214cf3d-ba21-424a-bfa5-2bc5a2649b8e",
   "metadata": {},
   "outputs": [
    {
     "data": {
      "text/plain": [
       "np.float64(52.553865761110956)"
      ]
     },
     "execution_count": 8,
     "metadata": {},
     "output_type": "execute_result"
    }
   ],
   "source": [
    "road_accident['Latitude'].mean()"
   ]
  },
  {
   "cell_type": "code",
   "execution_count": 9,
   "id": "64ee0062-42f8-4892-995b-59c4b9a10736",
   "metadata": {},
   "outputs": [],
   "source": [
    "road_accident['Latitude'] = road_accident['Latitude'].fillna(road_accident['Latitude'].mean())"
   ]
  },
  {
   "cell_type": "code",
   "execution_count": 10,
   "id": "6598657c-441f-4ad8-9154-246aed91759b",
   "metadata": {},
   "outputs": [
    {
     "data": {
      "text/plain": [
       "np.float64(-1.431210368502073)"
      ]
     },
     "execution_count": 10,
     "metadata": {},
     "output_type": "execute_result"
    }
   ],
   "source": [
    "road_accident['Longitude'].mean()"
   ]
  },
  {
   "cell_type": "code",
   "execution_count": 11,
   "id": "2768c1bb-650b-4384-866c-fd02b2dc9acb",
   "metadata": {},
   "outputs": [],
   "source": [
    "road_accident['Longitude'] = road_accident['Longitude'].fillna(road_accident['Longitude'].mean())"
   ]
  },
  {
   "cell_type": "code",
   "execution_count": 12,
   "id": "1061c496-544f-45f6-905e-c353dc7d7506",
   "metadata": {},
   "outputs": [],
   "source": [
    "road_accident['Road_Surface_Conditions'] = road_accident['Road_Surface_Conditions'].fillna('unaccounted')\n",
    "road_accident['Road_Type'] = road_accident['Road_Type'].fillna('unaccounted')"
   ]
  },
  {
   "cell_type": "code",
   "execution_count": 13,
   "id": "641270fa-22f1-4fdb-b1c6-b120bc39276b",
   "metadata": {},
   "outputs": [
    {
     "data": {
      "text/plain": [
       "0    Urban\n",
       "Name: Urban_or_Rural_Area, dtype: object"
      ]
     },
     "execution_count": 13,
     "metadata": {},
     "output_type": "execute_result"
    }
   ],
   "source": [
    "road_accident['Urban_or_Rural_Area'].mode()"
   ]
  },
  {
   "cell_type": "code",
   "execution_count": 14,
   "id": "bfc7e5fe-3578-44f0-be4e-046bbc674565",
   "metadata": {},
   "outputs": [],
   "source": [
    "road_accident['Urban_or_Rural_Area'] = road_accident['Urban_or_Rural_Area'].fillna(road_accident['Urban_or_Rural_Area'].mode()[0])\n",
    "\n",
    "road_accident['Weather_Conditions'] = road_accident['Weather_Conditions'].fillna('unaccounted')"
   ]
  },
  {
   "cell_type": "code",
   "execution_count": 15,
   "id": "4398cfea-4c2a-403e-a867-7ec69bb2c399",
   "metadata": {},
   "outputs": [
    {
     "data": {
      "text/plain": [
       "Index                      0\n",
       "Accident_Severity          0\n",
       "Accident Date              0\n",
       "Latitude                   0\n",
       "Light_Conditions           0\n",
       "District Area              0\n",
       "Longitude                  0\n",
       "Number_of_Casualties       0\n",
       "Number_of_Vehicles         0\n",
       "Road_Surface_Conditions    0\n",
       "Road_Type                  0\n",
       "Urban_or_Rural_Area        0\n",
       "Weather_Conditions         0\n",
       "Vehicle_Type               0\n",
       "Year                       0\n",
       "Month                      0\n",
       "Day                        0\n",
       "DayOfWeek                  0\n",
       "dtype: int64"
      ]
     },
     "execution_count": 15,
     "metadata": {},
     "output_type": "execute_result"
    }
   ],
   "source": [
    "road_accident.isnull().sum()"
   ]
  },
  {
   "cell_type": "markdown",
   "id": "f17baaa3-a025-4aa3-b873-c5ae42c058d8",
   "metadata": {},
   "source": [
    "<H1>CHECKING THE DATA TYPE</H1>"
   ]
  },
  {
   "cell_type": "code",
   "execution_count": 16,
   "id": "c272a9ab-0f2e-42b8-9ab8-edc2dfef9842",
   "metadata": {},
   "outputs": [
    {
     "name": "stdout",
     "output_type": "stream",
     "text": [
      "<class 'pandas.core.frame.DataFrame'>\n",
      "RangeIndex: 660679 entries, 0 to 660678\n",
      "Data columns (total 18 columns):\n",
      " #   Column                   Non-Null Count   Dtype         \n",
      "---  ------                   --------------   -----         \n",
      " 0   Index                    660679 non-null  object        \n",
      " 1   Accident_Severity        660679 non-null  object        \n",
      " 2   Accident Date            660679 non-null  datetime64[ns]\n",
      " 3   Latitude                 660679 non-null  float64       \n",
      " 4   Light_Conditions         660679 non-null  object        \n",
      " 5   District Area            660679 non-null  object        \n",
      " 6   Longitude                660679 non-null  float64       \n",
      " 7   Number_of_Casualties     660679 non-null  int64         \n",
      " 8   Number_of_Vehicles       660679 non-null  int64         \n",
      " 9   Road_Surface_Conditions  660679 non-null  object        \n",
      " 10  Road_Type                660679 non-null  object        \n",
      " 11  Urban_or_Rural_Area      660679 non-null  object        \n",
      " 12  Weather_Conditions       660679 non-null  object        \n",
      " 13  Vehicle_Type             660679 non-null  object        \n",
      " 14  Year                     660679 non-null  int32         \n",
      " 15  Month                    660679 non-null  int32         \n",
      " 16  Day                      660679 non-null  int32         \n",
      " 17  DayOfWeek                660679 non-null  int32         \n",
      "dtypes: datetime64[ns](1), float64(2), int32(4), int64(2), object(9)\n",
      "memory usage: 80.6+ MB\n"
     ]
    }
   ],
   "source": [
    "road_accident.info()"
   ]
  },
  {
   "cell_type": "code",
   "execution_count": 17,
   "id": "0eeeb8b0-f611-40fd-8e82-92f143bf1c99",
   "metadata": {},
   "outputs": [],
   "source": [
    "road_accident['Index'] = road_accident['Index'].astype('category') \n",
    "road_accident['Accident_Severity'] = road_accident['Accident_Severity'].astype('category')\n",
    "road_accident['Light_Conditions'] = road_accident['Light_Conditions'].astype('category')\n",
    "road_accident['District Area'] = road_accident['District Area'].astype('category')\n",
    "road_accident['Road_Surface_Conditions'] = road_accident['Road_Surface_Conditions'].astype('category') \n",
    "road_accident['Road_Type'] = road_accident['Road_Type'].astype('category') \n",
    "road_accident['Urban_or_Rural_Area'] = road_accident['Urban_or_Rural_Area'].astype('category') \n",
    "road_accident['Weather_Conditions'] = road_accident['Weather_Conditions'].astype('category') \n",
    "road_accident['Vehicle_Type'] = road_accident['Vehicle_Type'].astype('category')\n",
    "road_accident['Month'] = road_accident['Month'].astype('category')\n",
    "road_accident['Year'] = road_accident['Year'].astype('category')"
   ]
  },
  {
   "cell_type": "code",
   "execution_count": 18,
   "id": "e916e3b6-d54e-4934-bcb7-d5057709eda4",
   "metadata": {},
   "outputs": [
    {
     "name": "stdout",
     "output_type": "stream",
     "text": [
      "<class 'pandas.core.frame.DataFrame'>\n",
      "RangeIndex: 660679 entries, 0 to 660678\n",
      "Data columns (total 18 columns):\n",
      " #   Column                   Non-Null Count   Dtype         \n",
      "---  ------                   --------------   -----         \n",
      " 0   Index                    660679 non-null  category      \n",
      " 1   Accident_Severity        660679 non-null  category      \n",
      " 2   Accident Date            660679 non-null  datetime64[ns]\n",
      " 3   Latitude                 660679 non-null  float64       \n",
      " 4   Light_Conditions         660679 non-null  category      \n",
      " 5   District Area            660679 non-null  category      \n",
      " 6   Longitude                660679 non-null  float64       \n",
      " 7   Number_of_Casualties     660679 non-null  int64         \n",
      " 8   Number_of_Vehicles       660679 non-null  int64         \n",
      " 9   Road_Surface_Conditions  660679 non-null  category      \n",
      " 10  Road_Type                660679 non-null  category      \n",
      " 11  Urban_or_Rural_Area      660679 non-null  category      \n",
      " 12  Weather_Conditions       660679 non-null  category      \n",
      " 13  Vehicle_Type             660679 non-null  category      \n",
      " 14  Year                     660679 non-null  category      \n",
      " 15  Month                    660679 non-null  category      \n",
      " 16  Day                      660679 non-null  int32         \n",
      " 17  DayOfWeek                660679 non-null  int32         \n",
      "dtypes: category(11), datetime64[ns](1), float64(2), int32(2), int64(2)\n",
      "memory usage: 59.1 MB\n"
     ]
    }
   ],
   "source": [
    "road_accident.info()"
   ]
  },
  {
   "cell_type": "markdown",
   "id": "b3627f6c-ac9d-424a-9adb-708378a60042",
   "metadata": {},
   "source": [
    "<H1>QUESTIONS AND 25 INSIGHT</H1>"
   ]
  },
  {
   "cell_type": "markdown",
   "id": "4cb44fe5-006c-4377-bdd3-548665cc2607",
   "metadata": {},
   "source": [
    "<h2>What day of the week have the most and least accidents?</h2>"
   ]
  },
  {
   "cell_type": "code",
   "execution_count": 19,
   "id": "0823b506-64c5-410e-86c5-fe6c96c3be97",
   "metadata": {},
   "outputs": [
    {
     "ename": "KeyError",
     "evalue": "'DayofWeek'",
     "output_type": "error",
     "traceback": [
      "\u001b[31m---------------------------------------------------------------------------\u001b[39m",
      "\u001b[31mKeyError\u001b[39m                                  Traceback (most recent call last)",
      "\u001b[36mFile \u001b[39m\u001b[32m~\\AppData\\Roaming\\Python\\Python313\\site-packages\\pandas\\core\\indexes\\base.py:3812\u001b[39m, in \u001b[36mIndex.get_loc\u001b[39m\u001b[34m(self, key)\u001b[39m\n\u001b[32m   3811\u001b[39m \u001b[38;5;28;01mtry\u001b[39;00m:\n\u001b[32m-> \u001b[39m\u001b[32m3812\u001b[39m     \u001b[38;5;28;01mreturn\u001b[39;00m \u001b[38;5;28;43mself\u001b[39;49m\u001b[43m.\u001b[49m\u001b[43m_engine\u001b[49m\u001b[43m.\u001b[49m\u001b[43mget_loc\u001b[49m\u001b[43m(\u001b[49m\u001b[43mcasted_key\u001b[49m\u001b[43m)\u001b[49m\n\u001b[32m   3813\u001b[39m \u001b[38;5;28;01mexcept\u001b[39;00m \u001b[38;5;167;01mKeyError\u001b[39;00m \u001b[38;5;28;01mas\u001b[39;00m err:\n",
      "\u001b[36mFile \u001b[39m\u001b[32mpandas/_libs/index.pyx:167\u001b[39m, in \u001b[36mpandas._libs.index.IndexEngine.get_loc\u001b[39m\u001b[34m()\u001b[39m\n",
      "\u001b[36mFile \u001b[39m\u001b[32mpandas/_libs/index.pyx:196\u001b[39m, in \u001b[36mpandas._libs.index.IndexEngine.get_loc\u001b[39m\u001b[34m()\u001b[39m\n",
      "\u001b[36mFile \u001b[39m\u001b[32mpandas/_libs/hashtable_class_helper.pxi:7088\u001b[39m, in \u001b[36mpandas._libs.hashtable.PyObjectHashTable.get_item\u001b[39m\u001b[34m()\u001b[39m\n",
      "\u001b[36mFile \u001b[39m\u001b[32mpandas/_libs/hashtable_class_helper.pxi:7096\u001b[39m, in \u001b[36mpandas._libs.hashtable.PyObjectHashTable.get_item\u001b[39m\u001b[34m()\u001b[39m\n",
      "\u001b[31mKeyError\u001b[39m: 'DayofWeek'",
      "\nThe above exception was the direct cause of the following exception:\n",
      "\u001b[31mKeyError\u001b[39m                                  Traceback (most recent call last)",
      "\u001b[36mCell\u001b[39m\u001b[36m \u001b[39m\u001b[32mIn[19]\u001b[39m\u001b[32m, line 1\u001b[39m\n\u001b[32m----> \u001b[39m\u001b[32m1\u001b[39m \u001b[43mroad_accident\u001b[49m\u001b[43m[\u001b[49m\u001b[33;43m'\u001b[39;49m\u001b[33;43mDayofWeek\u001b[39;49m\u001b[33;43m'\u001b[39;49m\u001b[43m]\u001b[49m.value_counts() \u001b[38;5;66;03m# Monday = 0, Sunday = 6\u001b[39;00m\n",
      "\u001b[36mFile \u001b[39m\u001b[32m~\\AppData\\Roaming\\Python\\Python313\\site-packages\\pandas\\core\\frame.py:4107\u001b[39m, in \u001b[36mDataFrame.__getitem__\u001b[39m\u001b[34m(self, key)\u001b[39m\n\u001b[32m   4105\u001b[39m \u001b[38;5;28;01mif\u001b[39;00m \u001b[38;5;28mself\u001b[39m.columns.nlevels > \u001b[32m1\u001b[39m:\n\u001b[32m   4106\u001b[39m     \u001b[38;5;28;01mreturn\u001b[39;00m \u001b[38;5;28mself\u001b[39m._getitem_multilevel(key)\n\u001b[32m-> \u001b[39m\u001b[32m4107\u001b[39m indexer = \u001b[38;5;28;43mself\u001b[39;49m\u001b[43m.\u001b[49m\u001b[43mcolumns\u001b[49m\u001b[43m.\u001b[49m\u001b[43mget_loc\u001b[49m\u001b[43m(\u001b[49m\u001b[43mkey\u001b[49m\u001b[43m)\u001b[49m\n\u001b[32m   4108\u001b[39m \u001b[38;5;28;01mif\u001b[39;00m is_integer(indexer):\n\u001b[32m   4109\u001b[39m     indexer = [indexer]\n",
      "\u001b[36mFile \u001b[39m\u001b[32m~\\AppData\\Roaming\\Python\\Python313\\site-packages\\pandas\\core\\indexes\\base.py:3819\u001b[39m, in \u001b[36mIndex.get_loc\u001b[39m\u001b[34m(self, key)\u001b[39m\n\u001b[32m   3814\u001b[39m     \u001b[38;5;28;01mif\u001b[39;00m \u001b[38;5;28misinstance\u001b[39m(casted_key, \u001b[38;5;28mslice\u001b[39m) \u001b[38;5;129;01mor\u001b[39;00m (\n\u001b[32m   3815\u001b[39m         \u001b[38;5;28misinstance\u001b[39m(casted_key, abc.Iterable)\n\u001b[32m   3816\u001b[39m         \u001b[38;5;129;01mand\u001b[39;00m \u001b[38;5;28many\u001b[39m(\u001b[38;5;28misinstance\u001b[39m(x, \u001b[38;5;28mslice\u001b[39m) \u001b[38;5;28;01mfor\u001b[39;00m x \u001b[38;5;129;01min\u001b[39;00m casted_key)\n\u001b[32m   3817\u001b[39m     ):\n\u001b[32m   3818\u001b[39m         \u001b[38;5;28;01mraise\u001b[39;00m InvalidIndexError(key)\n\u001b[32m-> \u001b[39m\u001b[32m3819\u001b[39m     \u001b[38;5;28;01mraise\u001b[39;00m \u001b[38;5;167;01mKeyError\u001b[39;00m(key) \u001b[38;5;28;01mfrom\u001b[39;00m\u001b[38;5;250m \u001b[39m\u001b[34;01merr\u001b[39;00m\n\u001b[32m   3820\u001b[39m \u001b[38;5;28;01mexcept\u001b[39;00m \u001b[38;5;167;01mTypeError\u001b[39;00m:\n\u001b[32m   3821\u001b[39m     \u001b[38;5;66;03m# If we have a listlike key, _check_indexing_error will raise\u001b[39;00m\n\u001b[32m   3822\u001b[39m     \u001b[38;5;66;03m#  InvalidIndexError. Otherwise we fall through and re-raise\u001b[39;00m\n\u001b[32m   3823\u001b[39m     \u001b[38;5;66;03m#  the TypeError.\u001b[39;00m\n\u001b[32m   3824\u001b[39m     \u001b[38;5;28mself\u001b[39m._check_indexing_error(key)\n",
      "\u001b[31mKeyError\u001b[39m: 'DayofWeek'"
     ]
    }
   ],
   "source": [
    "road_accident['DayofWeek'].value_counts() # Monday = 0, Sunday = 6"
   ]
  },
  {
   "cell_type": "markdown",
   "id": "c8929cc2-aa28-42f8-8662-8b9b5f4f6c49",
   "metadata": {},
   "source": [
    "<h3>1. The data shows that saturday = 5 is the most prone day to accidents </h3>"
   ]
  },
  {
   "cell_type": "markdown",
   "id": "5329a6fb-918f-4b67-8ab9-7605b2f0caeb",
   "metadata": {},
   "source": [
    "<h3>2. The data shows that Monday = 0 is the least prone day to accidents</h3>"
   ]
  },
  {
   "cell_type": "markdown",
   "id": "9284688c-96d4-4ad6-beed-9b265d8be0f4",
   "metadata": {},
   "source": [
    "<h2>What year have the most and least number of accidents?</h2>"
   ]
  },
  {
   "cell_type": "code",
   "execution_count": null,
   "id": "143b3c4d-2a2b-480a-bbe5-6823c9d35f7a",
   "metadata": {},
   "outputs": [],
   "source": [
    "road_accident['Year'].value_counts()"
   ]
  },
  {
   "cell_type": "markdown",
   "id": "6ec88399-dcb3-46a0-a016-9ecb496c706e",
   "metadata": {},
   "source": [
    "<h3>3. The data shows that 2019 has the most number of accidents</h3>"
   ]
  },
  {
   "cell_type": "markdown",
   "id": "ff815094-1662-4d46-9d14-5d48fe9b81cb",
   "metadata": {},
   "source": [
    "<h3>4. The data shows that 2022 has the least number of accidents</h3>"
   ]
  },
  {
   "cell_type": "markdown",
   "id": "d6f06bd7-86c5-4d39-9a84-34bc8f9915b1",
   "metadata": {},
   "source": [
    "<h2>Which district area has the most and least number of casualties?</h2>"
   ]
  },
  {
   "cell_type": "code",
   "execution_count": null,
   "id": "ad2f747f-f27e-4ec4-b8bd-f00eedd94727",
   "metadata": {},
   "outputs": [],
   "source": [
    "road_accident.groupby('District Area')['Number_of_Casualties'].sum().idxmax()"
   ]
  },
  {
   "cell_type": "code",
   "execution_count": null,
   "id": "a26f9b4d-5f6f-44ab-aa06-5b52a30064fc",
   "metadata": {},
   "outputs": [],
   "source": [
    "road_accident.groupby('District Area')['Number_of_Casualties'].sum().idxmin()"
   ]
  },
  {
   "cell_type": "markdown",
   "id": "66accfd2-d6c1-4c89-9369-56e7ac13d5b3",
   "metadata": {},
   "source": [
    "<h3>5. The data shows that the district area with most number of casualties is Birmingham</h3>"
   ]
  },
  {
   "cell_type": "markdown",
   "id": "2a99c8d9-c766-44a2-92b4-c9be1546349f",
   "metadata": {},
   "source": [
    "<h3>6. The data shows that the district area with least number of casualties is Clackmannanshire</h3>"
   ]
  },
  {
   "cell_type": "markdown",
   "id": "8da144c3-234d-4219-bdbf-94dad4990624",
   "metadata": {},
   "source": [
    "<h2>What weather condition does accidents least and most recorded?</h2>"
   ]
  },
  {
   "cell_type": "code",
   "execution_count": null,
   "id": "fbfb6458-1af5-4f55-a3d1-fbdbe810f0e3",
   "metadata": {},
   "outputs": [],
   "source": [
    "road_accident['Weather_Conditions'].value_counts()"
   ]
  },
  {
   "cell_type": "markdown",
   "id": "68fc3b55-7785-4c8c-b8b7-f4e7e3c96764",
   "metadata": {},
   "source": [
    "<h3>7. The data shows that accidents mostly occured in Fine and no high winds weather condition</h3>"
   ]
  },
  {
   "cell_type": "markdown",
   "id": "353adf8e-cd7e-48e8-80c8-e7f3d8681016",
   "metadata": {},
   "source": [
    "<h3>8. The data shows that accidents least occured in Snowing + high winds weather condition</h3>"
   ]
  },
  {
   "cell_type": "markdown",
   "id": "453ecd1e-c5b6-447b-924a-55fba3194a83",
   "metadata": {},
   "source": [
    "<h2>What road type has the least and most number of accidents?</h2>"
   ]
  },
  {
   "cell_type": "code",
   "execution_count": null,
   "id": "5e6357c0-c113-4c13-9bcd-2288d25c84fa",
   "metadata": {},
   "outputs": [],
   "source": [
    "road_accident.groupby('Road_Type').size()"
   ]
  },
  {
   "cell_type": "markdown",
   "id": "96661999-39be-41f5-88e5-d103be8674cf",
   "metadata": {},
   "source": [
    "<h3>9. The data shows that Single carriageway type of road has the most number of accidents </h3>"
   ]
  },
  {
   "cell_type": "markdown",
   "id": "de9dd049-8bf1-4ba3-8b3e-31ce4fbb4efd",
   "metadata": {},
   "source": [
    "<h3>10. The data shows that Slip road type of road has the least number of accidents if the unaccounted is exempted\n",
    " </h3>"
   ]
  },
  {
   "cell_type": "markdown",
   "id": "4fcdff2b-3298-4cfd-b102-c47eee3da633",
   "metadata": {},
   "source": [
    "<h2>What type of area does accidents happen the most?</h2>"
   ]
  },
  {
   "cell_type": "code",
   "execution_count": null,
   "id": "3ef997a4-d35e-47ed-85e5-42c972323470",
   "metadata": {},
   "outputs": [],
   "source": [
    "road_accident.groupby('Urban_or_Rural_Area').size()"
   ]
  },
  {
   "cell_type": "markdown",
   "id": "96ee85fe-f44a-4527-9e5d-72671655e45a",
   "metadata": {},
   "source": [
    "<h3>11. The result shows that accidents mostly happens on urban areas</h3>"
   ]
  },
  {
   "cell_type": "markdown",
   "id": "bc8dd025-0ea8-45ea-8cfb-90b2ef1fc51b",
   "metadata": {},
   "source": [
    "<h2>What month does accidents least and mostly happen?</h2>"
   ]
  },
  {
   "cell_type": "code",
   "execution_count": null,
   "id": "4c163ec6-d6be-47b4-90a9-acc117640fed",
   "metadata": {},
   "outputs": [],
   "source": [
    "road_accident.groupby('Month').size()"
   ]
  },
  {
   "cell_type": "markdown",
   "id": "234413ac-5fd3-423c-beca-2fbb5646da37",
   "metadata": {},
   "source": [
    "<h3>12. According to the result, the month of november has the most numbers of accidents recorded</h3>"
   ]
  },
  {
   "cell_type": "markdown",
   "id": "74ce5d8b-b3da-4340-a8c5-baf5c5d664ab",
   "metadata": {},
   "source": [
    "<h3>13. According to the result, the month of february has the least numbers of accidents recorded</h3>"
   ]
  },
  {
   "cell_type": "markdown",
   "id": "d2c331cd-b29c-4c24-9f8b-50998bd69f58",
   "metadata": {},
   "source": [
    "<h2>The distribution of accidents by accident severity and vehicle type</h2>"
   ]
  },
  {
   "cell_type": "code",
   "execution_count": null,
   "id": "6559c03e-ae26-4d19-94a5-a55e5f66b74a",
   "metadata": {},
   "outputs": [],
   "source": [
    "road_accident.groupby(['Accident_Severity','Vehicle_Type']).size().unstack()"
   ]
  },
  {
   "cell_type": "markdown",
   "id": "780294a5-b540-4ea9-9c70-c520bfab2a18",
   "metadata": {},
   "source": [
    "<h3>14. According to the result, The vehicle that has the most number in 3 types of accident severity is the Car</h3>"
   ]
  },
  {
   "cell_type": "markdown",
   "id": "319d2a6d-4ecc-46cd-a914-b78c5c9803ca",
   "metadata": {},
   "source": [
    "<h3>15. According to the result, The vehicle that has the least number in 3 types of accident severity is the Ridden Horse</h3>"
   ]
  },
  {
   "cell_type": "markdown",
   "id": "d7f78f2d-2f09-4baf-b81d-a583b478d97d",
   "metadata": {},
   "source": [
    "<h2>What road conditions has the most and least numbers of accidents?</h2>"
   ]
  },
  {
   "cell_type": "code",
   "execution_count": null,
   "id": "a0934f3a-c206-4b83-8d18-07bef8abd48f",
   "metadata": {},
   "outputs": [],
   "source": [
    "road_accident['Road_Surface_Conditions'].value_counts()"
   ]
  },
  {
   "cell_type": "markdown",
   "id": "2d2f3b10-c095-4d88-a62a-8e23fc81571f",
   "metadata": {},
   "source": [
    "<h3>16. According to the result, the road condition with the most numbers of accidents is dry road</h3>"
   ]
  },
  {
   "cell_type": "markdown",
   "id": "1c5589eb-bd4c-4fe1-ab0d-d54959789a83",
   "metadata": {},
   "source": [
    "<h3>17. According to the result, the road condition with the least numbers of accidents is Flood over 3cm. deep road</h3>"
   ]
  },
  {
   "cell_type": "markdown",
   "id": "547c8095-03f6-4760-af7b-000e71c7069d",
   "metadata": {},
   "source": [
    "<h2>What light condition has the most and least numbers of accident? </h2>"
   ]
  },
  {
   "cell_type": "code",
   "execution_count": null,
   "id": "c79ffee1-62c9-4025-9549-21ecaffddbae",
   "metadata": {},
   "outputs": [],
   "source": [
    "road_accident['Light_Conditions'].value_counts()"
   ]
  },
  {
   "cell_type": "markdown",
   "id": "5d3378a5-1e54-4034-9339-b263312ac74e",
   "metadata": {},
   "source": [
    "<h3>18. According to the result, daylight has the most number of accidents recorded</h3>"
   ]
  },
  {
   "cell_type": "markdown",
   "id": "705ece5e-1f1a-4d7d-81a5-8c0e534451db",
   "metadata": {},
   "source": [
    "<h3>19. According to the result, Darkness - lights unlit has the least number of accidents recorded</h3>"
   ]
  },
  {
   "cell_type": "markdown",
   "id": "acd12934-99f3-42b3-9cee-3f758fdb18f2",
   "metadata": {},
   "source": [
    "<h2>What is the maximum number of casualties in a single accident?</h2>"
   ]
  },
  {
   "cell_type": "code",
   "execution_count": null,
   "id": "b920d6b1-a50b-4000-9eab-90a607684b84",
   "metadata": {},
   "outputs": [],
   "source": [
    "road_accident['Number_of_Casualties'].value_counts()"
   ]
  },
  {
   "cell_type": "markdown",
   "id": "9f08e37f-e35e-42de-9d95-39a25e75a273",
   "metadata": {},
   "source": [
    "<h3>20. According to the result, the maximum casualties of accidents ever recorded is 504041</h3>"
   ]
  },
  {
   "cell_type": "markdown",
   "id": "7d6bf9f4-3732-4cf6-9f4d-3ce61aa42973",
   "metadata": {},
   "source": [
    "<h2>What is the number of accidents per month in each year?</h2>"
   ]
  },
  {
   "cell_type": "code",
   "execution_count": null,
   "id": "206b05cf-925b-4489-bd42-f5ed0e55e8c4",
   "metadata": {},
   "outputs": [],
   "source": [
    "accidentpermonth = road_accident.groupby(['Month', 'Year']).size()\n",
    "accidentpermonth.unstack()"
   ]
  },
  {
   "cell_type": "markdown",
   "id": "b0132067-890b-4a84-92b8-12f48337b09f",
   "metadata": {},
   "source": [
    "<h3>21. Based on the result, November is consistenly the peak month of accidents across all four years with two consequtive above 9% rate (2021, and 2022). Hoevwer, October also has high percentage with three ratings of 9% and above but November slightly beats it in most years.</h3>"
   ]
  },
  {
   "cell_type": "markdown",
   "id": "2b2de261-9a68-4011-b608-53becbd84029",
   "metadata": {},
   "source": [
    "<h3>22. Based on the result, February has the lowest percentage of accidents especially 2021 at just 6.7%. It suggests that road accidents tend to be more common in October, while February is generally a safer month.</h3>"
   ]
  },
  {
   "cell_type": "markdown",
   "id": "abcfe0e1-a0a4-4ce4-bee0-4982c74e98c3",
   "metadata": {},
   "source": [
    "<h2>Where do the latitude and longitude values fall within the data sets?</h2>"
   ]
  },
  {
   "cell_type": "code",
   "execution_count": null,
   "id": "cf0323fe-e138-4dff-91f9-6ab6bc4caeba",
   "metadata": {},
   "outputs": [],
   "source": [
    "road_accident[['Latitude', 'Longitude']].describe()"
   ]
  },
  {
   "cell_type": "markdown",
   "id": "1da3b42b-7b3e-4b78-856a-c995e9f5b670",
   "metadata": {},
   "source": [
    "<h3>23. The result shows that the spans of the data set cover both northern/sothern and eastern/western regions</h3>"
   ]
  },
  {
   "cell_type": "markdown",
   "id": "503fb3db-ba18-4685-91ba-07055ea694bf",
   "metadata": {},
   "source": [
    "<h2>How many vehicles are usually involve in accidents?</h2>"
   ]
  },
  {
   "cell_type": "code",
   "execution_count": null,
   "id": "a8ea4b7b-0f16-48b9-a126-7cae82c97718",
   "metadata": {},
   "outputs": [],
   "source": [
    "road_accident['Number_of_Vehicles'].describe()"
   ]
  },
  {
   "cell_type": "markdown",
   "id": "130f8a98-0a0f-4d5a-9c8c-6b76e7cbb7b5",
   "metadata": {},
   "source": [
    "<h3>24. According to the result, Usually 2 vehicles are involve around</h3>"
   ]
  },
  {
   "cell_type": "markdown",
   "id": "20a38140-4545-49b5-aed4-b649906aa8e2",
   "metadata": {},
   "source": [
    "<h2>Is there a correlation between longitude and number of casualties?</h2>"
   ]
  },
  {
   "cell_type": "code",
   "execution_count": null,
   "id": "6dd06663-1d2f-4739-9c40-d2f86a986fb5",
   "metadata": {},
   "outputs": [],
   "source": [
    "road_accident['Longitude'].corr(road_accident['Number_of_Casualties'])"
   ]
  },
  {
   "cell_type": "markdown",
   "id": "4dfa2276-418d-4455-8aa8-c78f06882838",
   "metadata": {},
   "source": [
    "<h3>25. The result shows that there is no correlation between longitude and number of casualties.</h3>"
   ]
  },
  {
   "cell_type": "markdown",
   "id": "0eed078b-c37b-4b14-b8c5-383b6d8a0bfc",
   "metadata": {},
   "source": [
    "<h2>Most and least number of accidents in terms of year, Month and Day of the week</h2>"
   ]
  },
  {
   "cell_type": "code",
   "execution_count": 20,
   "id": "a86521c0-2f0e-42d4-bd02-f764c9eed21c",
   "metadata": {},
   "outputs": [
    {
     "data": {
      "image/png": "[encoded data removed]",
      "text/plain": [
       "<Figure size 1000x500 with 1 Axes>"
      ]
     },
     "metadata": {},
     "output_type": "display_data"
    },
    {
     "data": {
      "image/png": "[encoded data removed]",
      "text/plain": [
       "<Figure size 640x480 with 1 Axes>"
      ]
     },
     "metadata": {},
     "output_type": "display_data"
    },
    {
     "data": {
      "image/png": "[encoded data removed]",
      "text/plain": [
       "<Figure size 640x480 with 1 Axes>"
      ]
     },
     "metadata": {},
     "output_type": "display_data"
    },
    {
     "name": "stdout",
     "output_type": "stream",
     "text": [
      "DayOfWeek\n",
      "Monday       270\n",
      "Tuesday      397\n",
      "Wednesday    434\n",
      "Thursday     452\n",
      "Friday       447\n",
      "Saturday     456\n",
      "Sunday       343\n",
      "Name: count, dtype: int64\n"
     ]
    },
    {
     "data": {
      "image/png": "[encoded data removed]",
      "text/plain": [
       "<Figure size 640x480 with 1 Axes>"
      ]
     },
     "metadata": {},
     "output_type": "display_data"
    }
   ],
   "source": [
    "# District\n",
    "district_ni_encina = road_accident[road_accident['District Area'] == 'Kensington and Chelsea']\n",
    "\n",
    "monthly_district_ni_encina = district_ni_encina.groupby(['Year', 'Month']).size()\n",
    "\n",
    "monthly_district_ni_encina = monthly_district_ni_encina.unstack(level=0)\n",
    "\n",
    "monthly_district_ni_encina.plot(\n",
    "    marker='o', \n",
    "    figsize=(10, 5),\n",
    "    title='Monthly Road Accidents in London by Year (2019-2022)'\n",
    ")\n",
    "plt.xticks(range(1, 13), ['Jan','Feb','Mar','Apr','May','Jun','Jul','Aug','Sep','Oct','Nov','Dec'])\n",
    "plt.legend(title='Yearly Accident Comparison', bbox_to_anchor = (1.05,1), loc='upper left')\n",
    "plt.grid(alpha=0.3)\n",
    "plt.show()\n",
    "\n",
    "# Per Year, Month, Day\n",
    "encina_per_year = district_ni_encina['Year'].value_counts().sort_index()\n",
    "encina_per_month = district_ni_encina['Month'].value_counts().sort_index()\n",
    "encina_per_day = district_ni_encina['DayOfWeek'].value_counts().sort_index()\n",
    "\n",
    "encina_per_year.plot(kind='bar')\n",
    "plt.title('Accidents per Year')\n",
    "plt.xlabel('Year')\n",
    "plt.ylabel('Number of Accidents')\n",
    "plt.show()\n",
    "\n",
    "month_names = {\n",
    "    1: 'January', 2: 'February', 3: 'March', 4: 'April',\n",
    "    5: 'May', 6: 'June', 7: 'July', 8: 'August',\n",
    "    9: 'September', 10: 'October', 11: 'November', 12: 'December'\n",
    "}\n",
    "\n",
    "encina_per_month.index = encina_per_month.index.map(month_names)\n",
    "\n",
    "encina_per_month.plot(kind='bar')\n",
    "plt.title('Accidents per Month')\n",
    "plt.xlabel('Month')\n",
    "plt.ylabel('Number of Accidents')\n",
    "plt.show()\n",
    "\n",
    "\n",
    "day_names = {\n",
    "    0: 'Monday',\n",
    "    1: 'Tuesday',\n",
    "    2: 'Wednesday',\n",
    "    3: 'Thursday',\n",
    "    4: 'Friday',\n",
    "    5: 'Saturday',\n",
    "    6: 'Sunday'\n",
    "}\n",
    "\n",
    "encina_per_day.index = encina_per_day.index.map(day_names)\n",
    "encina_per_day.plot(kind='bar')\n",
    "print(encina_per_day)"
   ]
  },
  {
   "cell_type": "markdown",
   "id": "627f6b90-c587-4c67-8165-908641665510",
   "metadata": {},
   "source": [
    "<h3>26. According to the visualisation above, The most accident count in terms of year is year 2020</h3>"
   ]
  },
  {
   "cell_type": "markdown",
   "id": "f902d253-4a56-4db0-9351-84f4936bc116",
   "metadata": {},
   "source": [
    "<h3>27. According to the visualisation above, The least accident count in terms of year is year 2021</h3>"
   ]
  },
  {
   "cell_type": "markdown",
   "id": "6cb9d1e2-8400-4cad-8752-b0b28acd87a4",
   "metadata": {},
   "source": [
    "<h3>28. According to the visualisation above, The most accident count in terms of month is June</h3>"
   ]
  },
  {
   "cell_type": "markdown",
   "id": "037d44bb-aca3-423e-9ef7-567a548579a4",
   "metadata": {},
   "source": [
    "<h3>29. According to the visualisation above, The least accident count in terms of month is February</h3>"
   ]
  },
  {
   "cell_type": "markdown",
   "id": "92aa7b51-4c89-4d60-93b8-6e94f582124c",
   "metadata": {},
   "source": [
    "<h3>30. According to the visualisation above, The most accident count in terms of day of week is Saturday</h3>"
   ]
  },
  {
   "cell_type": "markdown",
   "id": "c32c6428-9ff0-4272-a045-145ef38df5ae",
   "metadata": {},
   "source": [
    "<h3>31. According to the visualisation above, The least accident count in terms of day of week is Monday</h3>"
   ]
  },
  {
   "cell_type": "code",
   "execution_count": 21,
   "id": "df5932bc-9a18-4325-9ee3-e94354e6db6d",
   "metadata": {},
   "outputs": [
    {
     "data": {
      "image/png": "[encoded data removed]",
      "text/plain": [
       "<Figure size 1000x700 with 1 Axes>"
      ]
     },
     "metadata": {},
     "output_type": "display_data"
    },
    {
     "data": {
      "image/png": "[encoded data removed]",
      "text/plain": [
       "<Figure size 1000x700 with 1 Axes>"
      ]
     },
     "metadata": {},
     "output_type": "display_data"
    }
   ],
   "source": [
    "# Severity\n",
    "severity_district_ni_encina  = district_ni_encina['Accident_Severity'].value_counts()\n",
    "\n",
    "plt.pie(severity_district_ni_encina,\n",
    "        labels = severity_district_ni_encina.index,\n",
    "        autopct = '%1.1f%%',\n",
    "        startangle = 90)\n",
    "plt.gcf().set_size_inches(10,7)\n",
    "plt.title('Accident Severity Distribution')\n",
    "plt.show()\n",
    "\n",
    "severity_2021_district_ni_encina = district_ni_encina[district_ni_encina['Year'] == 2021]\n",
    "\n",
    "district_ni_encina_2021 = severity_2021_district_ni_encina['Accident_Severity'].value_counts()\n",
    "\n",
    "plt.pie(district_ni_encina_2021,\n",
    "        labels = district_ni_encina_2021.index,\n",
    "        autopct = '%1.1f%%',\n",
    "        startangle = 90)\n",
    "plt.gcf().set_size_inches(10,7)\n",
    "plt.title('Accident Severity Distribution')\n",
    "plt.show()"
   ]
  },
  {
   "cell_type": "code",
   "execution_count": 23,
   "id": "ff590ab1-c0fc-46a8-87c9-3207b898199d",
   "metadata": {},
   "outputs": [
    {
     "data": {
      "text/html": [
       "<div style=\"width:100%;\"><div style=\"position:relative;width:100%;height:0;padding-bottom:60%;\"><span style=\"color:#565656\">Make this Notebook Trusted to load map: File -> Trust Notebook</span><iframe srcdoc=\"&lt;!DOCTYPE html&gt;\n",
       "&lt;html&gt;\n",
       "&lt;head&gt;\n",
       "    \n",
       "    &lt;meta http-equiv=&quot;content-type&quot; content=&quot;text/html; charset=UTF-8&quot; /&gt;\n",
       "    &lt;script src=&quot;https://cdn.jsdelivr.net/npm/leaflet@1.9.3/dist/leaflet.js&quot;&gt;&lt;/script&gt;\n",
       "    &lt;script src=&quot;https://code.jquery.com/jquery-3.7.1.min.js&quot;&gt;&lt;/script&gt;\n",
       "    &lt;script src=&quot;https://cdn.jsdelivr.net/npm/bootstrap@5.2.2/dist/js/bootstrap.bundle.min.js&quot;&gt;&lt;/script&gt;\n",
       "    &lt;script src=&quot;https://cdnjs.cloudflare.com/ajax/libs/Leaflet.awesome-markers/2.0.2/leaflet.awesome-markers.js&quot;&gt;&lt;/script&gt;\n",
       "    &lt;link rel=&quot;stylesheet&quot; href=&quot;https://cdn.jsdelivr.net/npm/leaflet@1.9.3/dist/leaflet.css&quot;/&gt;\n",
       "    &lt;link rel=&quot;stylesheet&quot; href=&quot;https://cdn.jsdelivr.net/npm/bootstrap@5.2.2/dist/css/bootstrap.min.css&quot;/&gt;\n",
       "    &lt;link rel=&quot;stylesheet&quot; href=&quot;https://netdna.bootstrapcdn.com/bootstrap/3.0.0/css/bootstrap-glyphicons.css&quot;/&gt;\n",
       "    &lt;link rel=&quot;stylesheet&quot; href=&quot;https://cdn.jsdelivr.net/npm/@fortawesome/fontawesome-free@6.2.0/css/all.min.css&quot;/&gt;\n",
       "    &lt;link rel=&quot;stylesheet&quot; href=&quot;https://cdnjs.cloudflare.com/ajax/libs/Leaflet.awesome-markers/2.0.2/leaflet.awesome-markers.css&quot;/&gt;\n",
       "    &lt;link rel=&quot;stylesheet&quot; href=&quot;https://cdn.jsdelivr.net/gh/python-visualization/folium/folium/templates/leaflet.awesome.rotate.min.css&quot;/&gt;\n",
       "    \n",
       "            &lt;meta name=&quot;viewport&quot; content=&quot;width=device-width,\n",
       "                initial-scale=1.0, maximum-scale=1.0, user-scalable=no&quot; /&gt;\n",
       "            &lt;style&gt;\n",
       "                #map_e8ed974be475b7ebf38207f0058f657b {\n",
       "                    position: relative;\n",
       "                    width: 100.0%;\n",
       "                    height: 100.0%;\n",
       "                    left: 0.0%;\n",
       "                    top: 0.0%;\n",
       "                }\n",
       "                .leaflet-container { font-size: 1rem; }\n",
       "            &lt;/style&gt;\n",
       "\n",
       "            &lt;style&gt;html, body {\n",
       "                width: 100%;\n",
       "                height: 100%;\n",
       "                margin: 0;\n",
       "                padding: 0;\n",
       "            }\n",
       "            &lt;/style&gt;\n",
       "\n",
       "            &lt;style&gt;#map {\n",
       "                position:absolute;\n",
       "                top:0;\n",
       "                bottom:0;\n",
       "                right:0;\n",
       "                left:0;\n",
       "                }\n",
       "            &lt;/style&gt;\n",
       "\n",
       "            &lt;script&gt;\n",
       "                L_NO_TOUCH = false;\n",
       "                L_DISABLE_3D = false;\n",
       "            &lt;/script&gt;\n",
       "\n",
       "        \n",
       "    &lt;script src=&quot;https://cdn.jsdelivr.net/gh/python-visualization/folium@main/folium/templates/leaflet_heat.min.js&quot;&gt;&lt;/script&gt;\n",
       "&lt;/head&gt;\n",
       "&lt;body&gt;\n",
       "    \n",
       "    \n",
       "            &lt;div class=&quot;folium-map&quot; id=&quot;map_e8ed974be475b7ebf38207f0058f657b&quot; &gt;&lt;/div&gt;\n",
       "        \n",
       "&lt;/body&gt;\n",
       "&lt;script&gt;\n",
       "    \n",
       "    \n",
       "            var map_e8ed974be475b7ebf38207f0058f657b = L.map(\n",
       "                &quot;map_e8ed974be475b7ebf38207f0058f657b&quot;,\n",
       "                {\n",
       "                    center: [51.49624129411764, -0.18643270588235294],\n",
       "                    crs: L.CRS.EPSG3857,\n",
       "                    ...{\n",
       "  &quot;zoom&quot;: 10,\n",
       "  &quot;zoomControl&quot;: true,\n",
       "  &quot;preferCanvas&quot;: false,\n",
       "}\n",
       "\n",
       "                }\n",
       "            );\n",
       "\n",
       "            \n",
       "\n",
       "        \n",
       "    \n",
       "            var tile_layer_49a8a9af7979305bf8c544b07a746f36 = L.tileLayer(\n",
       "                &quot;https://tile.openstreetmap.org/{z}/{x}/{y}.png&quot;,\n",
       "                {\n",
       "  &quot;minZoom&quot;: 0,\n",
       "  &quot;maxZoom&quot;: 19,\n",
       "  &quot;maxNativeZoom&quot;: 19,\n",
       "  &quot;noWrap&quot;: false,\n",
       "  &quot;attribution&quot;: &quot;\\u0026copy; \\u003ca href=\\&quot;https://www.openstreetmap.org/copyright\\&quot;\\u003eOpenStreetMap\\u003c/a\\u003e contributors&quot;,\n",
       "  &quot;subdomains&quot;: &quot;abc&quot;,\n",
       "  &quot;detectRetina&quot;: false,\n",
       "  &quot;tms&quot;: false,\n",
       "  &quot;opacity&quot;: 1,\n",
       "}\n",
       "\n",
       "            );\n",
       "        \n",
       "    \n",
       "            tile_layer_49a8a9af7979305bf8c544b07a746f36.addTo(map_e8ed974be475b7ebf38207f0058f657b);\n",
       "        \n",
       "    \n",
       "            var heat_map_8c2c2c649b20e9e72bb199aac1f20699 = L.heatLayer(\n",
       "                [[51.48226, -0.179486], [51.499127, -0.159652], [51.505996, -0.214277], [51.486795, -0.170375], [51.490623, -0.173679], [51.505591, -0.211267], [51.493649, -0.171686], [51.492655, -0.200393], [51.501308, -0.161149], [51.505994, -0.214133], [51.487797, -0.188629], [51.489716, -0.190569], [51.487745, -0.167889], [51.508639, -0.198898], [51.488695, -0.165402], [51.480103, -0.179572], [51.529409, -0.2223]],\n",
       "                {\n",
       "  &quot;minOpacity&quot;: 0.5,\n",
       "  &quot;maxZoom&quot;: 18,\n",
       "  &quot;radius&quot;: 25,\n",
       "  &quot;blur&quot;: 15,\n",
       "}\n",
       "            );\n",
       "        \n",
       "    \n",
       "            heat_map_8c2c2c649b20e9e72bb199aac1f20699.addTo(map_e8ed974be475b7ebf38207f0058f657b);\n",
       "        \n",
       "    \n",
       "            tile_layer_49a8a9af7979305bf8c544b07a746f36.addTo(map_e8ed974be475b7ebf38207f0058f657b);\n",
       "        \n",
       "    \n",
       "            heat_map_8c2c2c649b20e9e72bb199aac1f20699.addTo(map_e8ed974be475b7ebf38207f0058f657b);\n",
       "        \n",
       "&lt;/script&gt;\n",
       "&lt;/html&gt;\" style=\"position:absolute;width:100%;height:100%;left:0;top:0;border:none !important;\" allowfullscreen webkitallowfullscreen mozallowfullscreen></iframe></div></div>"
      ],
      "text/plain": [
       "<folium.folium.Map at 0x27284565010>"
      ]
     },
     "execution_count": 23,
     "metadata": {},
     "output_type": "execute_result"
    }
   ],
   "source": [
    "kachelsea_encina = road_accident[road_accident['District Area']== 'Kensington and Chelsea']\n",
    "\n",
    "kachelsea_fatal = kachelsea_encina[kachelsea_encina['Accident_Severity'] == 'Fatal']\n",
    "\n",
    "locations  = list(zip(kachelsea_fatal['Latitude'],kachelsea_fatal['Longitude']))\n",
    "\n",
    "qwerty = folium.Map(location=[kachelsea_fatal['Latitude'].mean(), kachelsea_fatal['Longitude'].mean()], zoom_start=10)\n",
    "\n",
    "HeatMap(locations).add_to(qwerty)\n",
    "qwerty.save('accident_heatmap.html')\n",
    "qwerty"
   ]
  },
  {
   "cell_type": "code",
   "execution_count": null,
   "id": "7055bc1b-a8a0-4a23-ae05-4e6960dadae4",
   "metadata": {},
   "outputs": [],
   "source": []
  }
 ],
 "metadata": {
  "kernelspec": {
   "display_name": "Python 3 (ipykernel)",
   "language": "python",
   "name": "python3"
  },
  "language_info": {
   "codemirror_mode": {
    "name": "ipython",
    "version": 3
   },
   "file_extension": ".py",
   "mimetype": "text/x-python",
   "name": "python",
   "nbconvert_exporter": "python",
   "pygments_lexer": "ipython3",
   "version": "3.13.3"
  }
 },
 "nbformat": 4,
 "nbformat_minor": 5
}
